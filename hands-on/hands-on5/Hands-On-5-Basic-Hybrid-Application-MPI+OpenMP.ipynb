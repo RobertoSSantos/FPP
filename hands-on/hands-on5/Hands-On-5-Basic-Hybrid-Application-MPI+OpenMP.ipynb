{
 "cells": [
  {
   "cell_type": "markdown",
   "id": "97479be1",
   "metadata": {},
   "source": [
    "# Hands-On 5: Basic Hybrid Application MPI+OpenMP"
   ]
  },
  {
   "cell_type": "markdown",
   "id": "58002ce2",
   "metadata": {},
   "source": [
    "Team: João Vitor Mendez, Roberto Santos"
   ]
  },
  {
   "cell_type": "markdown",
   "id": "6306d61a-b2b7-4879-9382-91a27795c3af",
   "metadata": {},
   "source": [
    "This Hands-on comprises 2 session. Next table shows the documents and\n",
    "files needed to develop in the exercises.\n",
    "\n",
    "|  Sessions      | Codes                  | files              | \n",
    "| -------------- | -----------------------| ------------------ |\n",
    "| Session 1      | Hello World            | hello-mpi+openmp.c                             |\n",
    "| Session 2      | Hybrid Matrix Multiple | mm-mpi.c, mm-openmp.c, and mm-mpi+openmp.c |\n",
    "\n",
    "First, we will execute a sample hybrid code *Hello World* to understand the meaning of heterogeneous environment applied in Parallel Computing.\n"
   ]
  },
  {
   "cell_type": "markdown",
   "id": "27eb9e17-e8a3-46b1-9350-83f18f482024",
   "metadata": {},
   "source": [
    "## `Hello World!` "
   ]
  },
  {
   "cell_type": "code",
   "execution_count": 1,
   "id": "58938bd3-d7d7-455e-a3f2-7ef5a86c3855",
   "metadata": {},
   "outputs": [
    {
     "name": "stdout",
     "output_type": "stream",
     "text": [
      "Writing hello-mpi+openmp.c\n"
     ]
    }
   ],
   "source": [
    "%%writefile hello-mpi+openmp.c\n",
    "#include <mpi.h>\n",
    "#include <omp.h>\n",
    "#include <stdio.h>\n",
    "#include <stdlib.h>\n",
    "\n",
    "\n",
    "int main( int argc, char *argv[])\n",
    "{\n",
    "    int nthreads,nprocs,idpro,idthr;\n",
    "    int  namelen;\n",
    "    char processor_name[MPI_MAX_PROCESSOR_NAME];\n",
    "\n",
    "    MPI_Init(&argc,&argv);\n",
    "    MPI_Comm_size(MPI_COMM_WORLD,&nprocs);\n",
    "    MPI_Comm_rank(MPI_COMM_WORLD,&idpro);\n",
    "    MPI_Get_processor_name(processor_name,&namelen);\n",
    "\n",
    "    #pragma omp parallel private(idthr) firstprivate(idpro,processor_name)\n",
    "    {\n",
    "    idthr = omp_get_thread_num();\n",
    "    printf(\"Hello World  thread %d,From %d processor %s\\n\",idthr,idpro,processor_name);\n",
    "    }\n",
    "\n",
    "    MPI_Finalize();\n",
    "}"
   ]
  },
  {
   "cell_type": "markdown",
   "id": "cd6e927d-a5ca-4291-849c-e745b30b0de2",
   "metadata": {},
   "source": [
    "### Run the code"
   ]
  },
  {
   "cell_type": "code",
   "execution_count": 2,
   "id": "e3231ee0-a0eb-4432-9bd1-da06a4ac14d0",
   "metadata": {},
   "outputs": [],
   "source": [
    "!mpicc hello-mpi+openmp.c -o hello-mpi+openmp -fopenmp"
   ]
  },
  {
   "cell_type": "code",
   "execution_count": 3,
   "id": "160eb51d-6164-44b8-b393-5c0889092d33",
   "metadata": {},
   "outputs": [
    {
     "name": "stdout",
     "output_type": "stream",
     "text": [
      "Hello World  thread 0,From 0 processor DESKTOP-7GM138L\n",
      "Hello World  thread 1,From 0 processor DESKTOP-7GM138L\n",
      "Hello World  thread 1,From 1 processor DESKTOP-7GM138L\n",
      "Hello World  thread 0,From 1 processor DESKTOP-7GM138L\n"
     ]
    }
   ],
   "source": [
    "!OMP_NUM_THREADS=2 mpirun -np 2 ./hello-mpi+openmp"
   ]
  },
  {
   "cell_type": "markdown",
   "id": "3c86340f-ad2b-4a40-8a80-49a14f2d62f7",
   "metadata": {},
   "source": [
    "##  `Matrix Multiple Benchmarks`"
   ]
  },
  {
   "cell_type": "markdown",
   "id": "5d6b9e05",
   "metadata": {},
   "source": [
    "## Sequential"
   ]
  },
  {
   "cell_type": "code",
   "execution_count": 12,
   "id": "0dee971c",
   "metadata": {},
   "outputs": [
    {
     "name": "stdout",
     "output_type": "stream",
     "text": [
      "Overwriting mm.c\n"
     ]
    }
   ],
   "source": [
    "%%writefile mm.c\n",
    "#include <stdio.h>\n",
    "#include <stdlib.h>\n",
    "#include <omp.h>\n",
    "\n",
    "void initializeMatrix(int *matrix, int size)\n",
    "{\n",
    "  for (int i = 0; i < size; i++)\n",
    "    for (int j = 0; j < size; j++)\n",
    "      matrix[i * size + j] = rand() % (10 - 1) * 1;\n",
    "}\n",
    "\n",
    "void printMatrix(int *matrix, int size)\n",
    "{\n",
    "  for (int i = 0; i < size; i++)\n",
    "  {\n",
    "    for (int j = 0; j < size; j++)\n",
    "      printf(\"%d\\t\", matrix[i * size + j]);\n",
    "    printf(\"\\n\");\n",
    "  }\n",
    "  printf(\"\\n\");\n",
    "}\n",
    "\n",
    "int main (int argc, char **argv)\n",
    "{\n",
    "\n",
    " int size = atoi(argv[1]);  \n",
    " int i, j, k;\n",
    " double t1, t2;\n",
    "\n",
    " int  *A = (int *) malloc (sizeof(int)*size*size);\n",
    " int  *B = (int *) malloc (sizeof(int)*size*size);\n",
    " int  *C = (int *) malloc (sizeof(int)*size*size);\n",
    "\n",
    " initializeMatrix(A, size);\n",
    " initializeMatrix(B, size);\n",
    "\n",
    " t1 = omp_get_wtime();\n",
    "\n",
    "   for(i = 0; i < size; i++)\n",
    "    for(j = 0; j < size; j++)\n",
    "      for(k = 0; k < size; k++)\n",
    "        C[i * size + j] += A[i * size + k] * B[k * size + j];\n",
    "\n",
    " t2 = omp_get_wtime();\n",
    "\n",
    " printf(\"%d\\t%f\\n\",size, t2-t1);\n",
    "\n",
    "// printMatrix(A,size);\n",
    "// printMatrix(B,size);\n",
    "// printMatrix(C,size);\n",
    "\n",
    " return 0;\n",
    "\n",
    "}"
   ]
  },
  {
   "cell_type": "code",
   "execution_count": 13,
   "id": "20cf7062",
   "metadata": {},
   "outputs": [],
   "source": [
    "!gcc -o mm mm.c -fopenmp"
   ]
  },
  {
   "cell_type": "code",
   "execution_count": 15,
   "id": "e63743ed",
   "metadata": {},
   "outputs": [
    {
     "name": "stdout",
     "output_type": "stream",
     "text": [
      "1000\t8.418506\n"
     ]
    }
   ],
   "source": [
    "! ./mm 1000"
   ]
  },
  {
   "cell_type": "markdown",
   "id": "c9942dc9-ce58-4d80-aacd-6b8502b7644a",
   "metadata": {},
   "source": [
    "### OpenMP"
   ]
  },
  {
   "cell_type": "code",
   "execution_count": 18,
   "id": "1f0033c8-1e70-41ce-a9c0-94c2bfe87092",
   "metadata": {},
   "outputs": [
    {
     "name": "stdout",
     "output_type": "stream",
     "text": [
      "Overwriting mm-openmp.c\n"
     ]
    }
   ],
   "source": [
    "%%writefile mm-openmp.c\n",
    "#include <stdio.h>\n",
    "#include <stdlib.h>\n",
    "#include <omp.h>\n",
    "\n",
    "void initializeMatrix(int *matrix, int size)\n",
    "{\n",
    "  for (int i = 0; i < size; i++)\n",
    "    for (int j = 0; j < size; j++)\n",
    "      matrix[i * size + j] = rand() % (10 - 1) * 1;\n",
    "}\n",
    "\n",
    "void printMatrix(int *matrix, int size)\n",
    "{\n",
    "  for (int i = 0; i < size; i++)\n",
    "  {\n",
    "    for (int j = 0; j < size; j++)\n",
    "      printf(\"%d\\t\", matrix[i * size + j]);\n",
    "    printf(\"\\n\");\n",
    "  }\n",
    "  printf(\"\\n\");\n",
    "}\n",
    "\n",
    "int main (int argc, char **argv)\n",
    "{\n",
    "\n",
    " int size = atoi(argv[1]);  \n",
    " int i, j, k;\n",
    " double t1, t2;\n",
    "\n",
    " int  *A = (int *) malloc (sizeof(int)*size*size);\n",
    " int  *B = (int *) malloc (sizeof(int)*size*size);\n",
    " int  *C = (int *) malloc (sizeof(int)*size*size);\n",
    "\n",
    " initializeMatrix(A, size);\n",
    " initializeMatrix(B, size);\n",
    "\n",
    " t1 = omp_get_wtime();\n",
    "\n",
    " #pragma omp parallel for private(i, j, k)\n",
    "   for(i = 0; i < size; i++)\n",
    "    for(j = 0; j < size; j++)\n",
    "      for(k = 0; k < size; k++)\n",
    "        C[i * size + j] += A[i * size + k] * B[k * size + j];\n",
    "\n",
    " t2 = omp_get_wtime();\n",
    "\n",
    " printf(\"%d\\t%f\\n\",size, t2-t1);\n",
    "\n",
    "// printMatrix(A,size);\n",
    "// printMatrix(B,size);\n",
    "// printMatrix(C,size);\n",
    "\n",
    " return 0;\n",
    "\n",
    "}"
   ]
  },
  {
   "cell_type": "markdown",
   "id": "0bfb6b97-9001-4c2c-a2be-bc3a6bd89bb5",
   "metadata": {},
   "source": [
    "#### Run the code"
   ]
  },
  {
   "cell_type": "code",
   "execution_count": 21,
   "id": "eff9420e-144c-41f4-86c8-97bb78b37c4d",
   "metadata": {},
   "outputs": [],
   "source": [
    "!gcc mm-openmp.c -o mm-openMP -fopenmp"
   ]
  },
  {
   "cell_type": "code",
   "execution_count": 22,
   "id": "06b0432e-680e-4b0e-8c6e-83f6890e35c1",
   "metadata": {},
   "outputs": [
    {
     "name": "stdout",
     "output_type": "stream",
     "text": [
      "1000\t1.840854\n"
     ]
    }
   ],
   "source": [
    "!OMP_NUM_THREADS=8 ./mm-openMP  1000  "
   ]
  },
  {
   "cell_type": "markdown",
   "id": "751d42ea-c260-4704-ad92-434712e3a901",
   "metadata": {},
   "source": [
    "### MPI"
   ]
  },
  {
   "cell_type": "code",
   "execution_count": 8,
   "id": "e5a130b9-c3e6-4baf-9650-33a621157f2d",
   "metadata": {},
   "outputs": [
    {
     "name": "stdout",
     "output_type": "stream",
     "text": [
      "Overwriting mm-mpi.c\n"
     ]
    }
   ],
   "source": [
    "%%writefile mm-mpi.c\n",
    "#include <stdio.h>\n",
    "#include <stdlib.h>\n",
    "#include <sys/time.h>\n",
    "#include <mpi.h>\n",
    "\n",
    "void mms(double *a, int fa, int ca, int lda, double *b, int fb, int cb, int ldb, double *c, int fc, int cc, int ldc) {\n",
    "    int i, j, k;\n",
    "    double s;\n",
    "    for (i = 0; i < fa; i++) \n",
    "        for (j = 0; j < cb; j++) {\n",
    "            s = 0.;\n",
    "            for (k = 0; k < ca; k++)\n",
    "                s += a[i * lda + k] * b[k * ldb + j];\n",
    "            c[i * ldc + j] = s;\n",
    "        }\n",
    "}\n",
    "\n",
    "void mm(double *a, int fa, int ca, int lda, double *b, int fb, int cb, int ldb, double *c, int fc, int cc, int ldc, int nodo, int np) {\n",
    "    int i, j, k;\n",
    "    double s;\n",
    "    if (nodo == 0) {\n",
    "        for (i = 1; i < np; i++)\n",
    "            MPI_Send(&a[i * lda * fa / np], fa / np * ca, MPI_DOUBLE, i, 20, MPI_COMM_WORLD);\n",
    "        MPI_Bcast(b, fb * cb, MPI_DOUBLE, 0, MPI_COMM_WORLD);\n",
    "    } else {\n",
    "        MPI_Recv(a, fa / np * ca, MPI_DOUBLE, 0, 20, MPI_COMM_WORLD, MPI_STATUS_IGNORE);\n",
    "        MPI_Bcast(b, fb * cb, MPI_DOUBLE, 0, MPI_COMM_WORLD);\n",
    "    }\n",
    "    mms(a, fa / np, ca, lda, b, fb, cb, ldb, c, fc / np, cc, ldc);\n",
    "    if (nodo == 0)\n",
    "        for (i = 1; i < np; i++)\n",
    "            MPI_Recv(&c[i * ldc * fc / np],fc / np * cc, MPI_DOUBLE, i, 30, MPI_COMM_WORLD, MPI_STATUS_IGNORE);\n",
    "    else\n",
    "        MPI_Send(c, fc / np * cc, MPI_DOUBLE, 0, 30, MPI_COMM_WORLD);\n",
    "}\n",
    "\n",
    "/*\n",
    "c\n",
    "c initialize - random initialization for array\n",
    "c\n",
    "*/\n",
    "\n",
    "void initialize(double *m, int f, int c, int ld) {\n",
    "  int i, j;\n",
    "\n",
    "  for (i = 0; i < f; i++) {\n",
    "    for (j = 0; j < c; j++) {  \n",
    "      m[i * ld + j] = (double)(i + j);\n",
    "    }\n",
    "  }\n",
    "}\n",
    "\n",
    "void initializealea(double *m, int f, int c, int ld) {\n",
    "  int i, j;\n",
    "\n",
    "  for (i = 0; i < f; i++) {\n",
    "    for (j = 0; j < c; j++) {  \n",
    "      m[i * ld + j] = (double)rand() / RAND_MAX;\n",
    "    }\n",
    "  }\n",
    "}\n",
    "\n",
    "void escribir(double *m, int f, int c, int ld) {\n",
    "  int i, j;\n",
    "\n",
    "  for (i = 0; i < f; i++) {\n",
    "    for (j = 0; j < c; j++) {  \n",
    "      printf(\"%.4lf \",m[i * ld + j]);\n",
    "    }\n",
    "    printf(\"\\n\");\n",
    "  }\n",
    "}\n",
    "\n",
    "void comparar(double *m1, int fm1, int cm1, int ldm1, double *m2, int fm2, int cm2, int ldm2)\n",
    "{\n",
    "  int i, j;\n",
    "\n",
    "  for(i = 0; i < fm1; i++)\n",
    "    for(j = 0; j < cm1; j++) {\n",
    "      if(m1[i * ldm1 + j] != m2[i * ldm2 + j]) {\n",
    "        printf(\"Discrepance in %d,%d: %.8lf , %.8lf\\n\", i, j, m1[i * ldm1 + j], m2[i * ldm2 + j]);\n",
    "        return;\n",
    "      }\n",
    "    }\n",
    "}\n",
    "\n",
    "int main(int argc, char *argv[]) {\n",
    "  int nodo, np, i, j, fa, fal, ca, lda, fb, cb, ldb, fc, fcl, cc, ldc, N;\n",
    "  int long_name;\n",
    "  double ti, tf;\n",
    "  double *a, *b, *c, *c0;\n",
    "  char    nombre_procesador[MPI_MAX_PROCESSOR_NAME];\n",
    "  MPI_Status estado;\n",
    " \n",
    "  MPI_Init(&argc, &argv);\n",
    "  MPI_Comm_size(MPI_COMM_WORLD, &np);\n",
    "  MPI_Comm_rank(MPI_COMM_WORLD, &nodo);\n",
    "  MPI_Get_processor_name(nombre_procesador, &long_name);\n",
    "\n",
    "  if (nodo == 0) {\n",
    "    N = atoi(argv[1]);\n",
    "  }\n",
    "  MPI_Bcast(&N, 1, MPI_INT, 0, MPI_COMM_WORLD);\n",
    "  \n",
    "  fa = ca = lda = fb = cb = ldb = fc = cc = ldc = N;\n",
    "  fal = N / np;\n",
    "  fcl = N / np;\n",
    "  if (nodo == 0) {\n",
    "    a = (double *) malloc(sizeof(double) * fa * ca);\n",
    "    b = (double *) malloc(sizeof(double) * fb * cb);\n",
    "    c = (double *) malloc(sizeof(double) * fc * cc);\n",
    "  } else {\n",
    "    a = (double *) malloc(sizeof(double) * fal * ca);\n",
    "    b = (double *) malloc(sizeof(double) * fb * cb);\n",
    "    c = (double *) malloc(sizeof(double) * fcl * cc);\n",
    "  }\n",
    "  \n",
    "  if (nodo == 0) {\n",
    "    c0 = (double *) malloc(sizeof(double) * fc * cc);\n",
    "    initialize(a, fa, ca, lda);\n",
    "    initialize(b, fb, cb, ldb);\n",
    "\n",
    "    mms(a, fa, ca, lda, b, fb, cb, ldb, c0, fc, cc, ldc);\n",
    "  }\n",
    "\n",
    "  MPI_Barrier(MPI_COMM_WORLD);\n",
    "\n",
    "  ti = MPI_Wtime();\n",
    "\n",
    "  mm(a, fa, ca, lda, b, fb, cb, ldb, c, fc, cc, ldc, nodo, np);\n",
    "\n",
    "  MPI_Barrier(MPI_COMM_WORLD);\n",
    "  tf = MPI_Wtime();\n",
    "  if (nodo == 0) {\n",
    "    //printf(\"(%d) Process %d, %s, Time %.6lf\\n\", N, np, nombre_procesador, tf - ti);\n",
    "    printf(\"%d\\t%f\\n\", N, tf - ti);  \n",
    "  }\n",
    "  \n",
    "  free(a);\n",
    "  free(b);\n",
    "  free(c);\n",
    "  if (nodo == 0)\n",
    "    free(c0);\n",
    "  MPI_Finalize();\n",
    "}"
   ]
  },
  {
   "cell_type": "markdown",
   "id": "79767bf6-d378-41c5-9afc-8f899a7fd093",
   "metadata": {},
   "source": [
    "#### Run the code"
   ]
  },
  {
   "cell_type": "code",
   "execution_count": 9,
   "id": "903e441b-0886-4f45-bbd8-d52bdedb4e04",
   "metadata": {},
   "outputs": [],
   "source": [
    "!mpicc mm-mpi.c -o mm-mpi"
   ]
  },
  {
   "cell_type": "code",
   "execution_count": 25,
   "id": "b07479d4-7303-4570-aa73-556cda58696e",
   "metadata": {},
   "outputs": [
    {
     "name": "stdout",
     "output_type": "stream",
     "text": [
      "1000\t1.881064\n"
     ]
    }
   ],
   "source": [
    "!mpirun -np 6 ./mm-mpi  1000"
   ]
  },
  {
   "cell_type": "markdown",
   "id": "1c79d1cd-3f89-4300-bf23-e432ab1d3b8b",
   "metadata": {},
   "source": [
    "### MPI + OpenMP"
   ]
  },
  {
   "cell_type": "code",
   "execution_count": 3,
   "id": "37886f5e-5145-4b87-aac7-b92ae47552d4",
   "metadata": {},
   "outputs": [
    {
     "name": "stdout",
     "output_type": "stream",
     "text": [
      "Overwriting mm-mpi+openmp.c\n"
     ]
    }
   ],
   "source": [
    "%%writefile mm-mpi+openmp.c\n",
    "#include <stdio.h>\n",
    "#include <stdlib.h>\n",
    "#include <sys/time.h>\n",
    "#include <mpi.h>\n",
    "#include <omp.h>\n",
    "\n",
    "void mm(double *a, int fa,int ca,int lda,double *b,int fb,int cb,int ldb,double *c,int fc,int cc,int ldc,int nodo,char *maquina)\n",
    "{\n",
    "  int i, j, k;\n",
    "  double s;\n",
    "\n",
    " #pragma omp parallel \n",
    " {\n",
    "   #pragma omp for private(i,j,k,s) schedule(static)\n",
    "    for (i = 0; i < fa; i++) \n",
    "    {\n",
    "     for(j=0;j<cb;j++)\n",
    "     {\n",
    "      s=0.;\n",
    "      for (k = 0; k < ca; k++)\n",
    "      s = s+a[i*lda+k]*b[k*ldb+j];\n",
    "      c[i*ldc+j]=s;\n",
    "     }\n",
    "    }\n",
    "   }\n",
    "  }\n",
    "\n",
    "/*\n",
    "c\n",
    "c initialize - random initialization for array\n",
    "c\n",
    "*/\n",
    "\n",
    "void initialize(double *m, int f,int c,int ld)\n",
    "{\n",
    "  int i, j;\n",
    "\n",
    "  for (i = 0; i < f; i++)\n",
    "  {\n",
    "    for (j = 0; j < c; j++)\n",
    "    {  \n",
    "      m[i*ld+j] = (double)(i+j);\n",
    "    }\n",
    "  }\n",
    "}\n",
    "\n",
    "void initializealea(double *m, int f,int c,int ld)\n",
    "{\n",
    "  int i, j;\n",
    "\n",
    "  for (i = 0; i < f; i++)\n",
    "  {\n",
    "    for (j = 0; j < c; j++)\n",
    "    {  \n",
    "      m[i*ld+j] = (double)rand()/RAND_MAX;\n",
    "    }\n",
    "  }\n",
    "    \n",
    "}\n",
    "\n",
    "void escribir(double *m, int f,int c,int ld)\n",
    "{\n",
    "  int i, j;\n",
    "\n",
    "  for (i = 0; i < f; i++)\n",
    "  {\n",
    "    for (j = 0; j < c; j++)\n",
    "    {  \n",
    "      printf(\"%.4lf \",m[i*ld+j]);\n",
    "    }\n",
    "    printf(\"\\n\");\n",
    "  }\n",
    "    \n",
    "}\n",
    "/*\n",
    "c\n",
    "c     mseconds - returns elapsed milliseconds since Jan 1st, 1970.\n",
    "c\n",
    "*/\n",
    "long long mseconds(){\n",
    "  struct timeval t;\n",
    "  gettimeofday(&t, NULL);\n",
    "  return t.tv_sec*1000 + t.tv_usec/1000;\n",
    "}\n",
    "\n",
    "void comparar(double *m1,int fm1,int cm1,int ldm1,double *m2,int fm2,int cm2,int ldm2)\n",
    "{\n",
    "  int i,j;\n",
    "\n",
    "  for(i=0;i<fm1;i++)\n",
    "    for(j=0;j<cm1;j++)\n",
    "    {\n",
    "      if(m1[i*ldm1+j]!=m2[i*ldm2+j])\n",
    "      {\n",
    "        printf(\"Discrepance in %d,%d: %.8lf , %.8lf\\n\",i,j,m1[i*ldm1+j],m2[i*ldm2+j]);\n",
    "        return;\n",
    "      }\n",
    "    }\n",
    "    \n",
    "}\n",
    "\n",
    "int main(int argc,char *argv[]) \n",
    "{\n",
    "  int nodo,np,i, j,fa,fal,ca,lda,fb,cb,ldb,fc,fcl,cc,ldc,N,NUMTHREADS;\n",
    "  int long_name;\n",
    "  double ti,tf;\n",
    "  double *a,*b,*c,*c0;\n",
    "  char    nombre_procesador[MPI_MAX_PROCESSOR_NAME];\n",
    "  MPI_Status estado;\n",
    " \n",
    "  MPI_Init(&argc,&argv);\n",
    "  MPI_Comm_size(MPI_COMM_WORLD,&np);\n",
    "  MPI_Comm_rank(MPI_COMM_WORLD,&nodo);\n",
    "  MPI_Get_processor_name(nombre_procesador,&long_name);\n",
    "\n",
    "  if(nodo==0)\n",
    "  {\n",
    "    N=atoi(argv[1]);\n",
    "    NUMTHREADS=atoi(argv[2]);\n",
    "  }\n",
    "    \n",
    "  MPI_Bcast(&N,1,MPI_INT,0,MPI_COMM_WORLD);\n",
    "  MPI_Bcast(&NUMTHREADS,1,MPI_INT,0,MPI_COMM_WORLD);\n",
    "  omp_set_num_threads(NUMTHREADS);\n",
    "  \n",
    "  fa=ca=lda=fb=cb=ldb=fc=cc=ldc=N;\n",
    "  fal=N/np;\n",
    "  fcl=N/np;\n",
    "  if(nodo==0)\n",
    "  {\n",
    "    a = (double *) malloc(sizeof(double)*fa*ca);\n",
    "    b = (double *) malloc(sizeof(double)*fb*cb);\n",
    "    c = (double *) malloc(sizeof(double)*fc*cc);\n",
    "  }\n",
    "  else\n",
    "  {\n",
    "    a = (double *) malloc(sizeof(double)*fal*ca);\n",
    "    b = (double *) malloc(sizeof(double)*fb*cb);\n",
    "    c = (double *) malloc(sizeof(double)*fcl*cc);\n",
    "  }\n",
    "  \n",
    "  if(nodo==0)\n",
    "  {\n",
    "    c0=(double *) malloc(sizeof(double)*fc*cc);\n",
    "    initialize(a,fa,ca,lda);\n",
    "    for(i=1;i<np;i++)\n",
    "    {\n",
    "      MPI_Send(&a[i*lda*N/np],fal*ca,MPI_DOUBLE,i,20,MPI_COMM_WORLD);\n",
    "    }\n",
    "    initialize(b,fb,cb,ldb);\n",
    "    MPI_Bcast(b,fb*cb,MPI_DOUBLE,0,MPI_COMM_WORLD);\n",
    "    mm(a,fa,ca,lda,b,fb,cb,ldb,c0,fc,cc,ldc,nodo,nombre_procesador);\n",
    "  }\n",
    "  else\n",
    "  {\n",
    "    MPI_Recv(a,fal*ca,MPI_DOUBLE,0,20,MPI_COMM_WORLD,&estado);\n",
    "    MPI_Bcast(b,fb*cb,MPI_DOUBLE,0,MPI_COMM_WORLD);\n",
    "  } \n",
    "\n",
    "  MPI_Barrier(MPI_COMM_WORLD);\n",
    "\n",
    "  ti=MPI_Wtime();\n",
    "\n",
    "  mm(a,fal,ca,lda,b,fb,cb,ldb,c,fcl,cc,ldc,nodo,nombre_procesador);\n",
    "\n",
    "  MPI_Barrier(MPI_COMM_WORLD);\n",
    "  tf=MPI_Wtime();\n",
    "  if(nodo==0)\n",
    "  {\n",
    "    printf(\"(%d) Threads %d, Process %d, %s, Time %.6lf\\n\\n\",N, NUMTHREADS, np, nombre_procesador,tf-ti);\n",
    "    //printf(\"%d\\t%f\\n\", N, tf-ti);\n",
    "    for(i=1;i<np;i++)\n",
    "    {\n",
    "      MPI_Recv(&c[i*ldc*N/np],fcl*cc,MPI_DOUBLE,i,30,MPI_COMM_WORLD,&estado);\n",
    "    }\n",
    "  }\n",
    "  else\n",
    "  {\n",
    "    MPI_Send(c,fcl*cc,MPI_DOUBLE,0,30,MPI_COMM_WORLD);\n",
    "  } \n",
    "  \n",
    "  free(a);\n",
    "  free(b);\n",
    "  free(c);\n",
    "  if(nodo==0)\n",
    "    free(c0);\n",
    "  MPI_Finalize();\n",
    "}"
   ]
  },
  {
   "cell_type": "markdown",
   "id": "042cb786-027c-4438-a69c-5e112075c475",
   "metadata": {},
   "source": [
    "#### Run the Code"
   ]
  },
  {
   "cell_type": "code",
   "execution_count": 4,
   "id": "735a825a-02d0-469d-9f65-60154efb9b57",
   "metadata": {},
   "outputs": [],
   "source": [
    "!mpicc mm-mpi+openmp.c -o mm-mpi+openmp -fopenmp"
   ]
  },
  {
   "cell_type": "code",
   "execution_count": 5,
   "id": "5fcdb92f-3bca-4e5e-8405-336d37961a7c",
   "metadata": {},
   "outputs": [
    {
     "name": "stdout",
     "output_type": "stream",
     "text": [
      "(1000) Threads 8, Process 6, DESKTOP-7GM138L, Time 1.546920\n",
      "\n"
     ]
    }
   ],
   "source": [
    "!mpirun -np 6 ./mm-mpi+openmp  1000 8     "
   ]
  },
  {
   "cell_type": "markdown",
   "id": "db690918-4cf8-4b20-b45b-64bd07620315",
   "metadata": {},
   "source": [
    "## Practice with the Benchmarks"
   ]
  },
  {
   "cell_type": "markdown",
   "id": "a9d9d5b9-3679-4d8c-a098-1775773723bf",
   "metadata": {},
   "source": [
    "From the parallelized matrix multiplication codes (MPI (`mm-mpi.c`), OpenMP (`mm-openmp.c)` and Hybrid (`mm-mpi+openmp.c`). Make the following plots:\n",
    "\n",
    "-   Execution time\n",
    "-   Speedup\n",
    "\n",
    "They are comparatively commenting on the performance of the optimizations of each code, with each group doing the experimentation on a specific execution platform."
   ]
  },
  {
   "cell_type": "code",
   "execution_count": 35,
   "id": "46833df1",
   "metadata": {},
   "outputs": [
    {
     "name": "stdout",
     "output_type": "stream",
     "text": [
      "Overwriting script.sh\n"
     ]
    }
   ],
   "source": [
    "%%writefile script.sh\n",
    "#!/bin/sh\n",
    "\n",
    "for i in 100 200 300 400 500 600 700 800 900 1000\n",
    "do \n",
    "    ./mm-openMP \"$i\"\n",
    "    OMP_NUM_THREADS=8  ./mm-openMP  \"$i\"\n",
    "    mpirun -np 6 ./mm-mpi \"$i\"\n",
    "    mpirun -np 6 ./mm-mpi+openmp  \"$\" 8 \n",
    "done"
   ]
  },
  {
   "cell_type": "code",
   "execution_count": null,
   "id": "859ec5ab",
   "metadata": {},
   "outputs": [],
   "source": [
    "!bash script.sh "
   ]
  },
  {
   "cell_type": "markdown",
   "id": "116a4a61",
   "metadata": {},
   "source": [
    "## Execution Time\n",
    "| **Problem_Size** | **100**  | **200**  | **300**  | **400**  | **500**  | **600**  | **700**  | **800**  | **900**  | **1000** |\n",
    "|:----------------:|:--------:|:--------:|:--------:|:--------:|:--------:|:--------:|:--------:|:--------:|:--------:|:--------:|\n",
    "| **Sequential**   | 0,007892 | 0,050478 | 0,198313 | 0,367743 | 0,822033 | 1,451043 | 2,421807 | 3,415816 | 5,697674 | 8,209497 |\n",
    "| **OpenMP**       | 0,006595 | 0,023207 | 0,041451 | 0,098142 | 0,179453 | 0,308767 | 0,454396 | 0,730488 | 1,209062 | 1,901650 |\n",
    "| **MPI**          | 0,001726 | 0,012445 | 0,036407 | 0,093901 | 0,196522 | 0,318208 | 0,599125 | 0,848962 | 1,794934 | 2,307917 |\n",
    "| **MPI + OpenMP** | 0,028685 | 0,413060 | 0,048933 | 0,082030 | 0,139959 | 0,310866 | 0,483065 | 0,874373 | 1,159292 | 1,896931 |"
   ]
  },
  {
   "cell_type": "markdown",
   "id": "03ee7303",
   "metadata": {},
   "source": [
    "![Screenshot from 2023-10-18 10-57-05.png](data:image/png;base64,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)"
   ]
  },
  {
   "cell_type": "markdown",
   "id": "22e94130",
   "metadata": {},
   "source": [
    "## Speedup\n",
    "| **Problem_Size** | **100**           | **200**           | **300**          | **400**          | **500**          | **600**          | **700**          | **800**          | **900**          | **1000**         |\n",
    "|:----------------:|:-----------------:|:-----------------:|:----------------:|:----------------:|:----------------:|:----------------:|:----------------:|:----------------:|:----------------:|:----------------:|\n",
    "| **OpenMP**       | 1,19666413949962  | 2,17511957599     | 4,78427540951967 | 3,7470501925781  | 4,58077045243044 | 4,69947565640111 | 5,32972781450541 | 4,67607407650776 | 4,71247462909264 | 4,3170388872821  |\n",
    "| **MPI**          | 4,57242178447277  | 4,0560867818401   | 5,44711181915566 | 3,91628417162757 | 4,18290573065611 | 4,56004563053097 | 4,04223993323597 | 4,02352048737164 | 3,1743083589703  | 3,55710235680053 |\n",
    "| **MPI + OpenMP** | 0,275126372668642 | 0,122205006536581 | 4,05274559091002 | 4,4830305985615  | 5,87338434827342 | 4,66774430140318 | 5,01341848405494 | 3,90658906439243 | 4,91478764625306 | 4,32777839573501 |"
   ]
  },
  {
   "cell_type": "markdown",
   "id": "1a6bd2f5",
   "metadata": {},
   "source": [
    "![Screenshot from 2023-10-18 10-59-10.png](data:image/png;base64,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)"
   ]
  },
  {
   "cell_type": "markdown",
   "id": "3353a617-6df7-43a7-af25-609415803ea5",
   "metadata": {},
   "source": [
    "## References"
   ]
  },
  {
   "cell_type": "markdown",
   "id": "786fb69f-263f-4d54-8657-a820e4dbef8e",
   "metadata": {},
   "source": [
    "M. Boratto. *Hands-On Supercomputing with Parallel Computing*.\n",
    "Available:\n",
    "<https://github.com/muriloboratto/Hands-On-Supercomputing-with-Parallel-Computing>.\n",
    "2022.\n",
    "\n",
    "Forum, Message Passing Interface. *MPI: A Message-Passing Interface\n",
    "Standard*. University of Tennessee, 1994, USA.\n",
    "\n",
    "B. Chapman, G. Jost and R. Pas. *Using OpenMP: Portable Shared Memory\n",
    "Parallel Programming*. The MIT Press, 2007, USA."
   ]
  }
 ],
 "metadata": {
  "kernelspec": {
   "display_name": "Python 3 (ipykernel)",
   "language": "python",
   "name": "python3"
  },
  "language_info": {
   "codemirror_mode": {
    "name": "ipython",
    "version": 3
   },
   "file_extension": ".py",
   "mimetype": "text/x-python",
   "name": "python",
   "nbconvert_exporter": "python",
   "pygments_lexer": "ipython3",
   "version": "3.10.12"
  }
 },
 "nbformat": 4,
 "nbformat_minor": 5
}
