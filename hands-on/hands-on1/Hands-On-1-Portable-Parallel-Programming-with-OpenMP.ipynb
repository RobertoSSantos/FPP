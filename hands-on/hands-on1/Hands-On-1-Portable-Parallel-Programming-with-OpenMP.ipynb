{
 "cells": [
  {
   "cell_type": "markdown",
   "id": "92f1ef18",
   "metadata": {},
   "source": [
    "# Hands-On 1: Portable Parallel Programming with OpenMP"
   ]
  },
  {
   "cell_type": "markdown",
   "id": "2c5cc23f",
   "metadata": {},
   "source": [
    "Team: João Vitor Mendes, Roberto Santana Santos"
   ]
  },
  {
   "cell_type": "markdown",
   "id": "d7c24d6e",
   "metadata": {},
   "source": [
    "Welcome to Hands-on _Portable Parallel Programming with OpenMP_. This notebook comprises 2 sessions. Next table shows the documents and files needed to develop each one of the exercises.\n"
   ]
  },
  {
   "cell_type": "markdown",
   "id": "e01d9803-6dee-44aa-8bb1-ce51765b0616",
   "metadata": {},
   "source": [
    "|  Sessions     | Codes             | files           | \n",
    "| --------------| ----------------- | --------------- |\n",
    "| Session 1     | Matrix Multiply   |  mm.c           |  \n",
    "| Session 2     | Asynchronous Task |  asyncTaskOpenMP.c |   \n"
   ]
  },
  {
   "cell_type": "markdown",
   "id": "a674a951",
   "metadata": {
    "tags": []
   },
   "source": [
    "## `Matrix Multiple Benchmark`"
   ]
  },
  {
   "cell_type": "markdown",
   "id": "b13c9861",
   "metadata": {},
   "source": [
    "The definite algebraic operation of the matrix can be defined as:For your work today, you have access to several GPUs in the cloud. Run the following cell to see the GPUs available to you today."
   ]
  },
  {
   "cell_type": "markdown",
   "id": "3f9f4a8b-128d-44b6-b7c3-9b1888e34818",
   "metadata": {},
   "source": [
    "$$ c_{ij} = \\sum\\limits_{k=1}^{n } a_{ik} b_{kj} = a_{i1}b_{1j} + a_{i2}b_{2j} + ... + a_{in}b_{nj} $$"
   ]
  },
  {
   "cell_type": "markdown",
   "id": "c2f981f6",
   "metadata": {},
   "source": [
    "where $i$ is summed over for all possible values of $j$ and $k$ and the notation above uses the summation convention. The sequential code of the program is available in the file `mm.c`. The follow code shows an extract of such code. In particular, we can see the algebraic operation include a loop that implements the summatory of the above definition."
   ]
  },
  {
   "cell_type": "code",
   "execution_count": 1,
   "id": "93afe921-11c3-47c9-8322-f56c2443eee5",
   "metadata": {},
   "outputs": [
    {
     "name": "stdout",
     "output_type": "stream",
     "text": [
      "Overwriting mm.c\n"
     ]
    }
   ],
   "source": [
    "%%writefile mm.c\n",
    "#include <stdio.h>\n",
    "#include <stdlib.h>\n",
    "\n",
    "void initializeMatrix(int *matrix, int size)\n",
    "{\n",
    "  for(int i = 0; i < size; i++)\n",
    "    for(int j = 0; j < size; j++)\n",
    "      matrix[i * size + j] = rand() % (10 - 1) * 1;\n",
    "}\n",
    "\n",
    "void printMatrix(int *matrix, int size)\n",
    "{\n",
    "  for(int i = 0; i < size; i++)\n",
    "  {\n",
    "    for(int j = 0; j < size; j++)\n",
    "      printf(\"%d\\t\", matrix[i * size + j]);\n",
    "    printf(\"\\n\");\n",
    "  }\n",
    "  printf(\"\\n\");\n",
    "}\n",
    "\n",
    "int main(int argc, char **argv)\n",
    "{\n",
    "  int size = atoi(argv[1]);  \n",
    "  int i, j, k;\n",
    "\n",
    "  int  *A = (int *) malloc (sizeof(int)*size*size);\n",
    "  int  *B = (int *) malloc (sizeof(int)*size*size);\n",
    "  int  *C = (int *) malloc (sizeof(int)*size*size);\n",
    "\n",
    "  initializeMatrix(A, size);\n",
    "  initializeMatrix(B, size);\n",
    "\n",
    "  for(i = 0; i < size; i++)\n",
    "   for(j = 0; j < size; j++)\n",
    "     for(k = 0; k < size; k++)\n",
    "        C[i * size + j] += A[i * size + k] * B[k * size + j];\n",
    "\n",
    "  printMatrix(A,size);\n",
    "  printMatrix(B,size);\n",
    "  printMatrix(C,size);\n",
    "\n",
    "  return 0;\n",
    "}"
   ]
  },
  {
   "cell_type": "markdown",
   "id": "7b08fae5-8956-4792-b522-08c09d048d77",
   "metadata": {},
   "source": [
    "### Run the Code"
   ]
  },
  {
   "cell_type": "code",
   "execution_count": 2,
   "id": "d0412a3c-244f-4e34-a458-24cd8866f81a",
   "metadata": {},
   "outputs": [],
   "source": [
    "!gcc mm.c -o mm"
   ]
  },
  {
   "cell_type": "code",
   "execution_count": 3,
   "id": "41c3cbbe-a7d4-4306-b072-3bf9d8af93a2",
   "metadata": {},
   "outputs": [
    {
     "name": "stdout",
     "output_type": "stream",
     "text": [
      "1\t7\t0\t7\t5\t7\t1\t3\t6\t1\t\n",
      "5\t4\t5\t7\t5\t4\t6\t0\t7\t1\t\n",
      "8\t8\t6\t6\t8\t8\t8\t4\t1\t1\t\n",
      "5\t0\t0\t3\t5\t3\t1\t7\t4\t7\t\n",
      "6\t0\t0\t2\t5\t4\t5\t2\t2\t3\t\n",
      "2\t1\t1\t8\t8\t0\t5\t5\t4\t4\t\n",
      "6\t0\t5\t6\t2\t8\t7\t3\t4\t2\t\n",
      "0\t0\t0\t0\t2\t6\t2\t5\t6\t5\t\n",
      "7\t6\t6\t8\t5\t3\t6\t2\t8\t1\t\n",
      "6\t6\t8\t0\t1\t1\t7\t0\t3\t2\t\n",
      "\n",
      "0\t1\t2\t1\t8\t3\t5\t2\t6\t0\t\n",
      "7\t2\t7\t2\t8\t1\t6\t5\t1\t5\t\n",
      "4\t6\t0\t4\t6\t2\t3\t2\t0\t4\t\n",
      "3\t7\t5\t3\t6\t5\t4\t2\t5\t2\t\n",
      "1\t3\t2\t8\t3\t2\t0\t0\t7\t2\t\n",
      "4\t3\t6\t2\t5\t1\t2\t6\t4\t2\t\n",
      "2\t7\t8\t5\t1\t5\t1\t4\t8\t4\t\n",
      "6\t7\t5\t8\t6\t0\t8\t4\t0\t7\t\n",
      "4\t2\t8\t1\t5\t2\t3\t7\t8\t7\t\n",
      "8\t1\t3\t7\t5\t2\t3\t6\t6\t0\t\n",
      "\n",
      "155\t141\t212\t132\t210\t81\t135\t157\t173\t140\t\n",
      "138\t176\t214\t146\t225\t124\t130\t157\t230\t145\t\n",
      "190\t237\t261\t226\t306\t142\t192\t189\t252\t175\t\n",
      "142\t121\t149\t174\t186\t70\t133\t136\t174\t103\t\n",
      "81\t103\t131\t124\t137\t77\t82\t100\t171\t70\t\n",
      "131\t172\t176\t193\t177\t106\t120\t119\t205\t124\t\n",
      "136\t188\t203\t153\t215\t117\t134\t162\t212\t129\t\n",
      "124\t90\t144\t119\t123\t42\t87\t136\t132\t101\t\n",
      "171\t208\t249\t174\t281\t140\t176\t184\t253\t180\t\n",
      "121\t129\t148\t112\t184\t88\t114\t125\t145\t115\t\n",
      "\n"
     ]
    }
   ],
   "source": [
    "!./mm 10"
   ]
  },
  {
   "cell_type": "markdown",
   "id": "81bc3d3d-cf14-4b0f-91b8-6bb1838849af",
   "metadata": {},
   "source": [
    "### Entering time measurement metrics"
   ]
  },
  {
   "cell_type": "markdown",
   "id": "b77e0774-722c-44c4-80ea-fe341c4a61b0",
   "metadata": {},
   "source": [
    "The next step will be to modify the code in the file `mm.c` to enter time measurement metrics of the matrix multiply in parallel using OpenMP. A first approach could be to use the command `omp_get_wtime()` for the get the initial and final time. You will need to link the command with the OpenMP library by including `omp.h`."
   ]
  },
  {
   "cell_type": "code",
   "execution_count": 28,
   "id": "b72903bc-7fd4-4e56-8281-d3e3986d9d0c",
   "metadata": {},
   "outputs": [
    {
     "name": "stdout",
     "output_type": "stream",
     "text": [
      "Overwriting mm.c\n"
     ]
    }
   ],
   "source": [
    "%%writefile mm.c\n",
    "#include <stdio.h>\n",
    "#include <stdlib.h>\n",
    "#include <omp.h>\n",
    "\n",
    "void initializeMatrix(int *matrix, int size)\n",
    "{\n",
    "  for(int i = 0; i < size; i++)\n",
    "    for(int j = 0; j < size; j++)\n",
    "      matrix[i * size + j] = rand() % (10 - 1) * 1;\n",
    "}\n",
    "\n",
    "void printMatrix(int *matrix, int size)\n",
    "{\n",
    "  for(int i = 0; i < size; i++)\n",
    "  {\n",
    "    for(int j = 0; j < size; j++)\n",
    "      printf(\"%d\\t\", matrix[i * size + j]);\n",
    "    printf(\"\\n\");\n",
    "  }\n",
    "  printf(\"\\n\");\n",
    "}\n",
    "\n",
    "int main(int argc, char **argv)\n",
    "{\n",
    " int size = atoi(argv[1]);  \n",
    " int i, j, k;\n",
    " double t1, t2;\n",
    "\n",
    " int  *A = (int *) malloc (sizeof(int)*size*size);\n",
    " int  *B = (int *) malloc (sizeof(int)*size*size);\n",
    " int  *C = (int *) malloc (sizeof(int)*size*size);\n",
    "\n",
    " initializeMatrix(A, size);\n",
    " initializeMatrix(B, size);\n",
    "\n",
    " t1 = omp_get_wtime();\n",
    "   for(i = 0; i < size; i++)\n",
    "    for(j = 0; j < size; j++)\n",
    "      for(k = 0; k < size; k++)\n",
    "        C[i * size + j] += A[i * size + k] * B[k * size + j];\n",
    " t2 = omp_get_wtime();\n",
    "\n",
    " printf(\"%d\\t%f\\n\",size, t2-t1);\n",
    "\n",
    " //printMatrix(A,size);\n",
    " //printMatrix(B,size);\n",
    " //printMatrix(C,size);\n",
    "\n",
    " return 0;\n",
    "}"
   ]
  },
  {
   "cell_type": "markdown",
   "id": "c25f9fac-4e5d-4d0b-9e48-99e7181f8a73",
   "metadata": {},
   "source": [
    "### Run the Code"
   ]
  },
  {
   "cell_type": "code",
   "execution_count": 29,
   "id": "b77d58de-a897-4ee6-b5b6-fa0be55cfe21",
   "metadata": {},
   "outputs": [],
   "source": [
    "!gcc mm.c -o mm -fopenmp"
   ]
  },
  {
   "cell_type": "code",
   "execution_count": 40,
   "id": "f77896ee-490c-4c9a-9d32-22c73d9dd469",
   "metadata": {},
   "outputs": [
    {
     "name": "stdout",
     "output_type": "stream",
     "text": [
      "1000\t5.597884\n"
     ]
    }
   ],
   "source": [
    "!./mm 1000"
   ]
  },
  {
   "cell_type": "markdown",
   "id": "be567e12",
   "metadata": {},
   "source": [
    "### Inserting the OpenMP directive"
   ]
  },
  {
   "cell_type": "markdown",
   "id": "33fe75ce",
   "metadata": {},
   "source": [
    "The next step will be to modify the code in the file `mm.c` to perform the computation of the integral in parallel using OpenMP. A first approach could be to use the directive parallel for considering the variables $i$, $j$ and $k$ are private. After this change, you can compile and execute the program."
   ]
  },
  {
   "cell_type": "code",
   "execution_count": 7,
   "id": "c0f91e78-8c2a-4ce1-8d6b-90a50ca1401b",
   "metadata": {},
   "outputs": [
    {
     "name": "stdout",
     "output_type": "stream",
     "text": [
      "Overwriting mm.c\n"
     ]
    }
   ],
   "source": [
    "%%writefile mm.c\n",
    "#include <stdio.h>\n",
    "#include <stdlib.h>\n",
    "#include <omp.h>\n",
    "\n",
    "void initializeMatrix(int *matrix, int size)\n",
    "{\n",
    "  for(int i = 0; i < size; i++)\n",
    "    for(int j = 0; j < size; j++)\n",
    "      matrix[i * size + j] = rand() % (10 - 1) * 1;\n",
    "}\n",
    "\n",
    "void printMatrix(int *matrix, int size)\n",
    "{\n",
    "  for(int i = 0; i < size; i++)\n",
    "  {\n",
    "    for(int j = 0; j < size; j++)\n",
    "      printf(\"%d\\t\", matrix[i * size + j]);\n",
    "    printf(\"\\n\");\n",
    "  }\n",
    "  printf(\"\\n\");\n",
    "}\n",
    "\n",
    "int main (int argc, char **argv)\n",
    "{\n",
    " int size = atoi(argv[1]);  \n",
    " int i, j, k;\n",
    " double t1, t2;\n",
    "\n",
    " int  *A = (int *) malloc (sizeof(int)*size*size);\n",
    " int  *B = (int *) malloc (sizeof(int)*size*size);\n",
    " int  *C = (int *) malloc (sizeof(int)*size*size);\n",
    "\n",
    " initializeMatrix(A, size);\n",
    " initializeMatrix(B, size);\n",
    "\n",
    " t1 = omp_get_wtime();\n",
    " #pragma omp parallel for private(i, j, k)\n",
    "   for(i = 0; i < size; i++)\n",
    "    for(j = 0; j < size; j++)\n",
    "      for(k = 0; k < size; k++)\n",
    "        C[i * size + j] += A[i * size + k] * B[k * size + j];\n",
    " t2 = omp_get_wtime();\n",
    "\n",
    " printf(\"%d\\t%f\\n\",size, t2-t1);\n",
    "\n",
    " //printMatrix(A,size);\n",
    " //printMatrix(B,size);\n",
    " //printMatrix(C,size);\n",
    "\n",
    " return 0;\n",
    "}"
   ]
  },
  {
   "cell_type": "markdown",
   "id": "bf967504-a3fd-48af-8f06-f1806b156548",
   "metadata": {},
   "source": [
    "### Run the Code"
   ]
  },
  {
   "cell_type": "code",
   "execution_count": 8,
   "id": "fcf9f267-0e70-45f0-9353-cf632a478cbc",
   "metadata": {},
   "outputs": [],
   "source": [
    "!gcc mm.c -o mm -fopenmp"
   ]
  },
  {
   "cell_type": "code",
   "execution_count": 9,
   "id": "1805d761-a421-4783-87c0-61ca5f134ed2",
   "metadata": {},
   "outputs": [
    {
     "name": "stdout",
     "output_type": "stream",
     "text": [
      "1000\t1.548553\n"
     ]
    }
   ],
   "source": [
    "!OMP_NUM_THREADS=16 ./mm 1000"
   ]
  },
  {
   "cell_type": "markdown",
   "id": "2ec4b521-8342-449b-9944-58cfb36207b9",
   "metadata": {},
   "source": [
    "### Performance Analysis"
   ]
  },
  {
   "cell_type": "markdown",
   "id": "e950c332-ded3-4535-9a0d-b9162d1df1bd",
   "metadata": {},
   "source": [
    "The last step will be to create the shell script file to measure the perform the computation of the matrix multiply in parallel using OpenMP. The shell script is available in the file `script.sh`.\n",
    "Compile and execute the script. At run time, an argument can be used to select the number of the threads. For example, to use the first variant you can use for $16$ threads:"
   ]
  },
  {
   "cell_type": "code",
   "execution_count": 10,
   "id": "d6c030ba-9ba4-4fc4-9084-f488b5cfd98d",
   "metadata": {},
   "outputs": [
    {
     "name": "stdout",
     "output_type": "stream",
     "text": [
      "Writing script.sh\n"
     ]
    }
   ],
   "source": [
    "%%writefile script.sh\n",
    "#!/bin/sh\n",
    "\n",
    "for i in 100 200 300 400 500 600 700 800 900 1000\n",
    "do\n",
    "  OMP_NUM_THREADS=$1  ./mm  \"$i\"\n",
    "done"
   ]
  },
  {
   "cell_type": "code",
   "execution_count": 11,
   "id": "4d29e6c6-b4bf-474d-a916-f113847f95b4",
   "metadata": {},
   "outputs": [
    {
     "name": "stdout",
     "output_type": "stream",
     "text": [
      "100\t0.001791\n",
      "200\t0.007148\n",
      "300\t0.024069\n",
      "400\t0.059331\n",
      "500\t0.104449\n",
      "600\t0.171973\n",
      "700\t0.273477\n",
      "800\t0.465969\n",
      "900\t0.794182\n",
      "1000\t1.383371\n"
     ]
    }
   ],
   "source": [
    "!bash script.sh 16"
   ]
  },
  {
   "cell_type": "markdown",
   "id": "75fcb38b",
   "metadata": {},
   "source": [
    "Through experiments, the following questions should be answered:\n",
    "\n",
    "* What is the behavior of the execution time and the speedup varying the size of the problem? (Show the solution with tabular and graphical values).\n",
    "\n",
    "* What is the optimal number of threads for the best parallel solution?"
   ]
  },
  {
   "cell_type": "markdown",
   "id": "8d34a3e4",
   "metadata": {},
   "source": [
    "### Behavior of the execution time and speedup for diferrent problem sizes"
   ]
  },
  {
   "cell_type": "markdown",
   "id": "cbc504f3",
   "metadata": {},
   "source": [
    "In order to analyze the behavior of the execution time and Speedup in the problem, it is necessary to understand that the execution time and Speedup will vary along with the increase in the size of the problem, some behaviors can already be expected, such as the use of a large number of threads in a small problem will cause a reduced Speedup, thus making code parallelization inefficient under these conditions. \n",
    "\n",
    "For our problem, we must test different execution sizes for an already defined set of threads. We will use a set of 16 threads, and an execution size ranging from 100 to 1000. From the execution of the experiments, we obtained the tables below."
   ]
  },
  {
   "cell_type": "markdown",
   "id": "6b507205",
   "metadata": {},
   "source": [
    "|  Probelem Size     | Sequential Time    |  Paralel Time    | Speedup    |\n",
    "|  -------------     | -------------     |  -------------     | -------------     |\n",
    "|  100     | 0.003330     |  0.003987     | 0.83     |\n",
    "|  200     | 0.028392     |  0.009018    | 3.14     |\n",
    "|  300     | 0.112362    |  0.025856     | 4.34|\n",
    "|  400     | 0.257749  |  0.053487    | 4.81|\n",
    "|  500     | 0.537874   |  0.113625    | 4.73|\n",
    "|  600     |0.972337    | 0.227770    | 4.26|\n",
    "|  700     |1.676479    |  0.308470     | 5.43|\n",
    "|  800     |2.484594    | 0.460911    | 5.51|\n",
    "|  900     |3.751935    |  0.788040    | 4.76|\n",
    "|  1000     |5.597884   | 1.447922    | 3.86|"
   ]
  },
  {
   "cell_type": "markdown",
   "id": "bef2bef2",
   "metadata": {},
   "source": [
    "### Finding the Optimal Number of Threads"
   ]
  },
  {
   "cell_type": "markdown",
   "id": "3f3cd1f9",
   "metadata": {},
   "source": [
    "We will find the optimal number of threads for the program through experimentation, by trying out different numbers of thread on our previously stated script, as shown in the table below."
   ]
  },
  {
   "cell_type": "markdown",
   "id": "7df588bc",
   "metadata": {},
   "source": [
    "Execution Size - 1000                              \n",
    "|  Number of Threads     | Execution Time    |\n",
    "| ------------------     | ----------------- |\n",
    "| 2                      |   2.795087        |                             \n",
    "|  4                     | 1.592035          |\n",
    "| 6                      | 1.367070          |\n",
    "| 8                      | 1.347624          |                                \n",
    "|  10                    | 1.284874          |\n",
    "| 12                     | 1.388694          |\n",
    "| 14                     | 1.352184          |  \n",
    "|16                      | 1.412781          |\n"
   ]
  },
  {
   "cell_type": "markdown",
   "id": "e4025c4c",
   "metadata": {},
   "source": [
    "According to the table, we can infer that the optimal number of threads required would be 10, although the ideal number depends on different hardware and software factors, so it cannot be considered a definitive or universal value."
   ]
  },
  {
   "cell_type": "code",
   "execution_count": 14,
   "id": "f6d75051",
   "metadata": {},
   "outputs": [
    {
     "name": "stdout",
     "output_type": "stream",
     "text": [
      "100\t0.004126\n",
      "200\t0.009398\n"
     ]
    },
    {
     "name": "stdout",
     "output_type": "stream",
     "text": [
      "300\t0.027010\n",
      "400\t0.056464\n",
      "500\t0.111435\n",
      "600\t0.176179\n",
      "700\t0.286987\n",
      "800\t0.437534\n",
      "900\t0.805619\n",
      "1000\t1.388694\n"
     ]
    }
   ],
   "source": [
    "!bash script.sh 12"
   ]
  },
  {
   "cell_type": "markdown",
   "id": "4c283708-51ca-42ff-b74b-0bfa30520332",
   "metadata": {
    "tags": []
   },
   "source": [
    "## `Asynchronous Task`"
   ]
  },
  {
   "cell_type": "markdown",
   "id": "783ac281-446a-4fed-a351-fc19b52e988b",
   "metadata": {},
   "source": [
    "Asynchronous programming is a set of techniques for implementing expensive operations that run concurrently with the rest of the program. One domain where asynchronous programming is often used is in programs with a graphical user interface: it is often unacceptable when the user interface freezes while performing a costly operation. Also, asynchronous operations are essential for parallel applications that need to run multiple tasks simultaneously. The following is a code `asyncTaskOpenMP.c` that represents a task being done asynchronously. Before understanding the code, compile and run it as follows:"
   ]
  },
  {
   "cell_type": "code",
   "execution_count": 12,
   "id": "bc9ba924-9b10-450c-a177-5f259d005182",
   "metadata": {},
   "outputs": [
    {
     "name": "stdout",
     "output_type": "stream",
     "text": [
      "Writing asyncTaskOpenMP.c\n"
     ]
    }
   ],
   "source": [
    "%%writefile asyncTaskOpenMP.c\n",
    "#include <stdio.h>\n",
    "#include <stdlib.h>\n",
    "#include <omp.h>\n",
    "\n",
    "#define SIZE_MATRIX 10\n",
    "\n",
    "int main(int argc, char **argv)\n",
    "{\n",
    "  int n = atoi(argv[1]);\n",
    "  int block_size = atoi(argv[2]);\n",
    "  int matrix[SIZE_MATRIX][SIZE_MATRIX], k1 = 10, k2 = 20;\n",
    "  int i, j, row, column;\n",
    "\n",
    "  for(i = 0; i < n; i++)\n",
    "  {\n",
    "    for(j = 0; j < n; j++)\n",
    "    {\n",
    "      matrix[i][j] = 5;\n",
    "      printf(\"%d\\t\", matrix[i][j]);\n",
    "    }\n",
    "    printf(\"\\n\");\n",
    "  }\n",
    "\n",
    "  printf(\"\\n\\n\");\n",
    "\n",
    "  omp_set_num_threads(5);\n",
    "\n",
    "  #pragma omp parallel private(row, column)\n",
    "  {\n",
    "    int id = omp_get_thread_num();\n",
    "\n",
    "    if(id == 0)\n",
    "    {\n",
    "      for(row = 0; row < n; row++)\n",
    "        for(column = 0; column < block_size; column++)\n",
    "          matrix[row][column] *= k1;\n",
    "    }\n",
    "\n",
    "    if(id == 1)\n",
    "    {\n",
    "      for(row = 0; row < n; row++)\n",
    "        for(column = block_size; column < 2 * block_size; column++)\n",
    "          matrix[row][column] *= k2;\n",
    "    }\n",
    "  \n",
    "  }\n",
    "\n",
    "  for(i = 0; i < n; i++)\n",
    "  {\n",
    "    for(j = 0; j < n; j++)\n",
    "      printf(\"%d\\t\", matrix[i][j]);\n",
    "    printf(\"\\n\");\n",
    "  }\n",
    "\n",
    "  return 0;\n",
    "}"
   ]
  },
  {
   "cell_type": "markdown",
   "id": "03685299-e273-48c3-9aad-dc9a437d2209",
   "metadata": {},
   "source": [
    "### Run the Code"
   ]
  },
  {
   "cell_type": "code",
   "execution_count": 13,
   "id": "79df516c-c78c-4c72-a59c-176dd639b907",
   "metadata": {},
   "outputs": [],
   "source": [
    "!gcc asyncTaskOpenMP.c -o asyncTaskOpenMP -fopenmp"
   ]
  },
  {
   "cell_type": "code",
   "execution_count": 14,
   "id": "3d5861e3-5e95-41eb-825b-48de71b7ff64",
   "metadata": {},
   "outputs": [
    {
     "name": "stdout",
     "output_type": "stream",
     "text": [
      "5\t5\t5\t5\t5\t5\t5\t5\t5\t5\t\n",
      "5\t5\t5\t5\t5\t5\t5\t5\t5\t5\t\n",
      "5\t5\t5\t5\t5\t5\t5\t5\t5\t5\t\n",
      "5\t5\t5\t5\t5\t5\t5\t5\t5\t5\t\n",
      "5\t5\t5\t5\t5\t5\t5\t5\t5\t5\t\n",
      "5\t5\t5\t5\t5\t5\t5\t5\t5\t5\t\n",
      "5\t5\t5\t5\t5\t5\t5\t5\t5\t5\t\n",
      "5\t5\t5\t5\t5\t5\t5\t5\t5\t5\t\n",
      "5\t5\t5\t5\t5\t5\t5\t5\t5\t5\t\n",
      "5\t5\t5\t5\t5\t5\t5\t5\t5\t5\t\n",
      "\n",
      "\n",
      "50\t50\t100\t100\t5\t5\t5\t5\t5\t5\t\n",
      "50\t50\t100\t100\t5\t5\t5\t5\t5\t5\t\n",
      "50\t50\t100\t100\t5\t5\t5\t5\t5\t5\t\n",
      "50\t50\t100\t100\t5\t5\t5\t5\t5\t5\t\n",
      "50\t50\t100\t100\t5\t5\t5\t5\t5\t5\t\n",
      "50\t50\t100\t100\t5\t5\t5\t5\t5\t5\t\n",
      "50\t50\t100\t100\t5\t5\t5\t5\t5\t5\t\n",
      "50\t50\t100\t100\t5\t5\t5\t5\t5\t5\t\n",
      "50\t50\t100\t100\t5\t5\t5\t5\t5\t5\t\n",
      "50\t50\t100\t100\t5\t5\t5\t5\t5\t5\t\n"
     ]
    }
   ],
   "source": [
    "!./asyncTaskOpenMP 10 2"
   ]
  },
  {
   "cell_type": "markdown",
   "id": "a7ee0352",
   "metadata": {},
   "source": [
    "From the previous action answer the following questions:\n",
    "\n",
    "• What does the code do from the compilation and execution of the previous code?\n",
    "\n",
    "• How would it be possible to extend the code so that the five threads perform asynchronous tasks?"
   ]
  },
  {
   "cell_type": "markdown",
   "id": "35749f6b",
   "metadata": {},
   "source": [
    "### Code Explanation"
   ]
  },
  {
   "cell_type": "markdown",
   "id": "934641fb",
   "metadata": {},
   "source": [
    "The code presented above seeks to divide the matrix into parts, with a size determined by the block_size parameter, in which each thread will be responsible for performing operations on these blocks independently."
   ]
  },
  {
   "cell_type": "markdown",
   "id": "84b1ffe2",
   "metadata": {},
   "source": [
    "### Extending the Code for the Five Threads to Perform Asynchronous Tasks"
   ]
  },
  {
   "cell_type": "markdown",
   "id": "8fbedcfd",
   "metadata": {},
   "source": [
    "To extend the code for all threads perform asynchronously, we only need to adjust the range each will follow and adjust the if-statements to cover all IDs, as shown below."
   ]
  },
  {
   "cell_type": "code",
   "execution_count": 15,
   "id": "c054553e",
   "metadata": {},
   "outputs": [
    {
     "name": "stdout",
     "output_type": "stream",
     "text": [
      "Overwriting asyncTaskOpenMP.c\n"
     ]
    }
   ],
   "source": [
    "%%writefile asyncTaskOpenMP.c\n",
    "#include <stdio.h>\n",
    "#include <stdlib.h>\n",
    "#include <omp.h>\n",
    "\n",
    "#define SIZE_MATRIX 10\n",
    "\n",
    "int main(int argc, char **argv)\n",
    "{\n",
    "  int n = atoi(argv[1]);\n",
    "  int block_size = atoi(argv[2]);\n",
    "  int matrix[SIZE_MATRIX][SIZE_MATRIX], k1 = 10, k2 = 20, k3 = 30, k4 = 40, k5 = 50;\n",
    "  int i, j, row, column;\n",
    "\n",
    "  for(i = 0; i < n; i++)\n",
    "  {\n",
    "    for(j = 0; j < n; j++)\n",
    "    {\n",
    "      matrix[i][j] = 5;\n",
    "      printf(\"%d\\t\", matrix[i][j]);\n",
    "    }\n",
    "    printf(\"\\n\");\n",
    "  }\n",
    "\n",
    "  printf(\"\\n\\n\");\n",
    "\n",
    "  omp_set_num_threads(5);\n",
    "\n",
    "  #pragma omp parallel private(row, column)\n",
    "  {\n",
    "    int id = omp_get_thread_num();\n",
    "\n",
    "    if(id == 0)\n",
    "    {\n",
    "      for(row = 0; row < n; row++)\n",
    "        for(column = 0; column < block_size; column++)\n",
    "          matrix[row][column] *= k1;\n",
    "    }\n",
    "\n",
    "    if(id == 1)\n",
    "    {\n",
    "      for(row = 0; row < n; row++)\n",
    "        for(column = block_size; column < 2 * block_size; column++)\n",
    "          matrix[row][column] *= k2;\n",
    "    }\n",
    "\n",
    "    if(id == 2)\n",
    "    {\n",
    "      for(row = 0; row < n; row++)\n",
    "        for(column = 2 * block_size; column < 3 * block_size; column++)\n",
    "          matrix[row][column] *= k3;\n",
    "    }\n",
    "\n",
    "    if(id == 3)\n",
    "    {\n",
    "      for(row = 0; row < n; row++)\n",
    "        for(column = 3 * block_size; column < 4 * block_size; column++)\n",
    "          matrix[row][column] *= k4;\n",
    "    }\n",
    "\n",
    "    if(id == 4)\n",
    "    {\n",
    "      for(row = 0; row < n; row++)\n",
    "        for(column = 4 * block_size; column < 5 * block_size; column++)\n",
    "          matrix[row][column] *= k5;\n",
    "    }\n",
    "  \n",
    "  }\n",
    "\n",
    "  for(i = 0; i < n; i++)\n",
    "  {\n",
    "    for(j = 0; j < n; j++)\n",
    "      printf(\"%d\\t\", matrix[i][j]);\n",
    "    printf(\"\\n\");\n",
    "  }\n",
    "\n",
    "  return 0;\n",
    "}"
   ]
  },
  {
   "cell_type": "code",
   "execution_count": 16,
   "id": "df516e92",
   "metadata": {},
   "outputs": [],
   "source": [
    "!gcc asyncTaskOpenMP.c -o asyncTaskOpenMP -fopenmp"
   ]
  },
  {
   "cell_type": "code",
   "execution_count": 17,
   "id": "3cd5424c",
   "metadata": {},
   "outputs": [
    {
     "name": "stdout",
     "output_type": "stream",
     "text": [
      "5\t5\t5\t5\t5\t5\t5\t5\t5\t5\t\n",
      "5\t5\t5\t5\t5\t5\t5\t5\t5\t5\t\n",
      "5\t5\t5\t5\t5\t5\t5\t5\t5\t5\t\n",
      "5\t5\t5\t5\t5\t5\t5\t5\t5\t5\t\n",
      "5\t5\t5\t5\t5\t5\t5\t5\t5\t5\t\n",
      "5\t5\t5\t5\t5\t5\t5\t5\t5\t5\t\n",
      "5\t5\t5\t5\t5\t5\t5\t5\t5\t5\t\n",
      "5\t5\t5\t5\t5\t5\t5\t5\t5\t5\t\n",
      "5\t5\t5\t5\t5\t5\t5\t5\t5\t5\t\n",
      "5\t5\t5\t5\t5\t5\t5\t5\t5\t5\t\n",
      "\n",
      "\n",
      "50\t50\t100\t100\t150\t150\t200\t200\t250\t250\t\n",
      "50\t50\t100\t100\t150\t150\t200\t200\t250\t250\t\n",
      "50\t50\t100\t100\t150\t150\t200\t200\t250\t250\t\n",
      "50\t50\t100\t100\t150\t150\t200\t200\t250\t250\t\n",
      "50\t50\t100\t100\t150\t150\t200\t200\t250\t250\t\n",
      "50\t50\t100\t100\t150\t150\t200\t200\t250\t250\t\n",
      "50\t50\t100\t100\t150\t150\t200\t200\t250\t250\t\n",
      "50\t50\t100\t100\t150\t150\t200\t200\t250\t250\t\n",
      "50\t50\t100\t100\t150\t150\t200\t200\t250\t250\t\n",
      "50\t50\t100\t100\t150\t150\t200\t200\t250\t250\t\n"
     ]
    }
   ],
   "source": [
    "!./asyncTaskOpenMP 10 2"
   ]
  },
  {
   "cell_type": "markdown",
   "id": "ad055c0c-b24d-4d0f-8b8c-3093b0c601b5",
   "metadata": {
    "tags": []
   },
   "source": [
    "## References"
   ]
  },
  {
   "cell_type": "markdown",
   "id": "a5fdf090-9dd3-491b-947f-81af7b8af818",
   "metadata": {},
   "source": [
    "M. Boratto. Hands-On Supercomputing with Parallel Computing. Available: https://github.com/muriloboratto/Hands-On-Supercomputing-with-Parallel-Computing. 2022."
   ]
  },
  {
   "cell_type": "markdown",
   "id": "6a02e6bc-84d6-44d4-bb66-2a98941d08d0",
   "metadata": {},
   "source": [
    "B. Chapman, G. Jost and R. Pas. Using OpenMP: Portable Shared Memory Parallel Programming. The MIT Press, 2007, USA."
   ]
  }
 ],
 "metadata": {
  "kernelspec": {
   "display_name": "Python 3 (ipykernel)",
   "language": "python",
   "name": "python3"
  },
  "language_info": {
   "codemirror_mode": {
    "name": "ipython",
    "version": 3
   },
   "file_extension": ".py",
   "mimetype": "text/x-python",
   "name": "python",
   "nbconvert_exporter": "python",
   "pygments_lexer": "ipython3",
   "version": "3.10.12"
  }
 },
 "nbformat": 4,
 "nbformat_minor": 5
}
