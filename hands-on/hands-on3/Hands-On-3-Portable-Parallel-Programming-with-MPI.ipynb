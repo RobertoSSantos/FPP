{
 "cells": [
  {
   "cell_type": "markdown",
   "id": "92f1ef18",
   "metadata": {},
   "source": [
    "# Hands-On 3: Parallelization with MPI"
   ]
  },
  {
   "cell_type": "markdown",
   "id": "c9916758",
   "metadata": {},
   "source": [
    "Team: Joao Vitor Mendes, Roberto Santana Santos"
   ]
  },
  {
   "cell_type": "markdown",
   "id": "d7c24d6e",
   "metadata": {},
   "source": [
    "Welcome to Hands-on _Parallelization with MPI_. This Hands-on comprises 3 sessions. Next table shows the documents and\n",
    "files needed to develop each one of the exercises."
   ]
  },
  {
   "cell_type": "markdown",
   "id": "e01d9803-6dee-44aa-8bb1-ce51765b0616",
   "metadata": {},
   "source": [
    "|  Sessions     | Codes               | files              | \n",
    "| --------------| --------------------| ------------------ |\n",
    "| Session 1     |  Basic Operations   |   operations.c   | \n",
    "| Session 2     | Algebraic Function  |  function.c      | \n",
    "| Session 3     |  Tridiagonal Matrix |   tridiagonal.c  | \n"
   ]
  },
  {
   "cell_type": "markdown",
   "id": "a674a951",
   "metadata": {
    "tags": []
   },
   "source": [
    "## `Basic Operations`"
   ]
  },
  {
   "cell_type": "markdown",
   "id": "b13c9861",
   "metadata": {},
   "source": [
    "The Algorithm below solves the multiplication, addition and subtraction of the elements of a vector of integers. The variable array is the vector on which the operations will be performed. Then, modify the program to run in parallel using MPI. Present the primitives used. The idea is made the following MPI version with only $4$ processes running.In the version, each process does a function: $1$ add, $1$ subtract and $1$ multiplies. The other process is responsible for telling each of the other $3$ its function, and when finished printing the results."
   ]
  },
  {
   "cell_type": "markdown",
   "id": "7135da02",
   "metadata": {},
   "source": [
    "### Sequential Execution"
   ]
  },
  {
   "cell_type": "code",
   "execution_count": 1,
   "id": "b72903bc-7fd4-4e56-8281-d3e3986d9d0c",
   "metadata": {},
   "outputs": [
    {
     "name": "stdout",
     "output_type": "stream",
     "text": [
      "Writing operations.c\n"
     ]
    }
   ],
   "source": [
    "%%writefile operations.c\n",
    "#include <stdio.h> \n",
    "#define SIZE 12\n",
    "\n",
    "int main (int argc, char **argv)\n",
    "{\n",
    " int i, sum = 0, subtraction = 0, mult = 1; \n",
    " int array[SIZE];\n",
    "\n",
    " for(i = 0; i < SIZE; i++) \n",
    "  array[i] = i + 1;\n",
    "\n",
    " for(i = 0; i < SIZE; i++)\n",
    "   printf(\"array[%d] = %d\\n\", i, array[i]);\n",
    "\n",
    " for(i = 0; i < SIZE; i++) \n",
    " {\n",
    "   sum = sum + array[i];\n",
    "   subtraction = subtraction - array[i]; \n",
    "   mult = mult * array[i];\n",
    " }\n",
    "\n",
    " printf(\"Sum = %d\\n\", sum); \n",
    " printf(\"Subtraction = %d\\n\", subtraction); \n",
    " printf(\"Multiply = %d\\n\", mult);\n",
    "\n",
    " return 0;\n",
    "\n",
    "}"
   ]
  },
  {
   "cell_type": "markdown",
   "id": "c25f9fac-4e5d-4d0b-9e48-99e7181f8a73",
   "metadata": {},
   "source": [
    "### Run the Code"
   ]
  },
  {
   "cell_type": "code",
   "execution_count": 2,
   "id": "b77d58de-a897-4ee6-b5b6-fa0be55cfe21",
   "metadata": {},
   "outputs": [],
   "source": [
    "!gcc operations.c -o operations "
   ]
  },
  {
   "cell_type": "code",
   "execution_count": 3,
   "id": "f77896ee-490c-4c9a-9d32-22c73d9dd469",
   "metadata": {},
   "outputs": [
    {
     "name": "stdout",
     "output_type": "stream",
     "text": [
      "array[0] = 1\n",
      "array[1] = 2\n",
      "array[2] = 3\n",
      "array[3] = 4\n",
      "array[4] = 5\n",
      "array[5] = 6\n",
      "array[6] = 7\n",
      "array[7] = 8\n",
      "array[8] = 9\n",
      "array[9] = 10\n",
      "array[10] = 11\n",
      "array[11] = 12\n",
      "Sum = 78\n",
      "Subtraction = -78\n",
      "Multiply = 479001600\n"
     ]
    }
   ],
   "source": [
    "!./operations"
   ]
  },
  {
   "cell_type": "markdown",
   "id": "429a6bfb",
   "metadata": {},
   "source": [
    "### Master-Workers MPI Execution"
   ]
  },
  {
   "cell_type": "code",
   "execution_count": 16,
   "id": "1f36e9d7",
   "metadata": {},
   "outputs": [
    {
     "name": "stdout",
     "output_type": "stream",
     "text": [
      "Overwriting operations.c\n"
     ]
    }
   ],
   "source": [
    "%%writefile operations.c\n",
    "#include <stdio.h> \n",
    "#include <mpi.h>\n",
    "#define SIZE 12\n",
    "\n",
    "int main (int argc, char **argv) {\n",
    "    int i, sum = 0, subtraction = 0, mult = 1; \n",
    "    int array[SIZE];\n",
    "    char operations[] = {'+','-','*'};\n",
    "    char operationsRec;\n",
    "    int numberOfProcessors, id, to, from, tag = 1000;\n",
    "    int result, values;\n",
    "\n",
    "    MPI_Init(&argc, &argv);\n",
    "    MPI_Comm_size(MPI_COMM_WORLD, &numberOfProcessors);\n",
    "    MPI_Comm_rank(MPI_COMM_WORLD, &id);\n",
    "    MPI_Status status;\n",
    "\n",
    "    switch(id){\n",
    "        case 0:\n",
    "            for(i=0;i<SIZE;i++){\n",
    "                array[i] = i + 1;\n",
    "                printf(\"array[%d] = %d\\n\", i, array[i]);\n",
    "            }\n",
    "            printf(\"\\n\");\n",
    "\n",
    "            for(to = 1; to < numberOfProcessors; to++){\n",
    "                MPI_Send(&array, SIZE, MPI_INT, to, tag, MPI_COMM_WORLD);\n",
    "                MPI_Send(&operations[to-1], 1, MPI_CHAR, to, tag, MPI_COMM_WORLD);\n",
    "            }\n",
    "\n",
    "            for(to = 1; to < numberOfProcessors; to++){\n",
    "                MPI_Recv(&result, 1, MPI_INT, to, tag, MPI_COMM_WORLD, &status);\n",
    "                MPI_Recv(&operationsRec, 1, MPI_CHAR, to, tag, MPI_COMM_WORLD, &status);\n",
    "                printf (\"(%c) = %d\\n\", operationsRec, result);\n",
    "            }\n",
    "\n",
    "        break;\n",
    "\n",
    "        default:\n",
    "            MPI_Recv(&array, SIZE, MPI_INT, 0, tag, MPI_COMM_WORLD, &status);\n",
    "            MPI_Recv(&operationsRec, 1, MPI_CHAR, 0, tag, MPI_COMM_WORLD, &status);\n",
    "\n",
    "            switch(operationsRec) {\n",
    "                case '+':\n",
    "                    values = 0;\n",
    "                    for(i = 0; i < SIZE; i++)\n",
    "                        values += array[i];\n",
    "                    break;\n",
    "                case '-':\n",
    "                    values = 0;\n",
    "                    for(i = 0; i < SIZE; i++)\n",
    "                        values -= array[i];\n",
    "                    break;\n",
    "                case '*':\n",
    "                    values = 0;\n",
    "                    for(i = 0; i < SIZE; i++)\n",
    "                        values = values * array[i];\n",
    "                    break;\n",
    "            }\n",
    "\n",
    "            MPI_Send(&values, 1, MPI_INT, 0, tag, MPI_COMM_WORLD);\n",
    "            MPI_Send(&operationsRec, 1, MPI_CHAR, 0, tag, MPI_COMM_WORLD);\n",
    "\n",
    "    }\n",
    "    MPI_Finalize();\n",
    "    return 0;\n",
    "\n",
    "}"
   ]
  },
  {
   "cell_type": "markdown",
   "id": "3d4ba544",
   "metadata": {},
   "source": [
    "### Run the Code"
   ]
  },
  {
   "cell_type": "code",
   "execution_count": 17,
   "id": "538a55cb",
   "metadata": {},
   "outputs": [],
   "source": [
    "!mpicc operations.c -o operations-mpi"
   ]
  },
  {
   "cell_type": "code",
   "execution_count": 18,
   "id": "612e295a",
   "metadata": {},
   "outputs": [
    {
     "name": "stdout",
     "output_type": "stream",
     "text": [
      "array[0] = 1\n",
      "array[1] = 2\n",
      "array[2] = 3\n",
      "array[3] = 4\n",
      "array[4] = 5\n",
      "array[5] = 6\n",
      "array[6] = 7\n",
      "array[7] = 8\n",
      "array[8] = 9\n",
      "array[9] = 10\n",
      "array[10] = 11\n",
      "array[11] = 12\n",
      "\n",
      "(+) = 78\n",
      "(-) = -78\n",
      "(*) = 0\n"
     ]
    }
   ],
   "source": [
    "!mpirun -np 4 ./operations-mpi"
   ]
  },
  {
   "cell_type": "markdown",
   "id": "defe15cd-b01c-4677-98bd-dec41ca697c5",
   "metadata": {},
   "source": [
    "### Results Analysis"
   ]
  },
  {
   "cell_type": "markdown",
   "id": "3429db89-4f72-4ca6-a8ac-18de5ce44d76",
   "metadata": {},
   "source": [
    "Include the execution time tables for both executions (10 times each), show the Speed-up value, create any needed graphic."
   ]
  },
  {
   "cell_type": "markdown",
   "id": "be567e12",
   "metadata": {},
   "source": [
    "## `Algebraic Function`"
   ]
  },
  {
   "cell_type": "markdown",
   "id": "33fe75ce",
   "metadata": {},
   "source": [
    "The idea of this Hands-on is to make an algorithm that uses the\n",
    "`MPI_Recv` and `MPI_Send` routines in the Master-Worker Paradigm in such\n",
    "a way that in the sequential code:"
   ]
  },
  {
   "cell_type": "markdown",
   "id": "fccede10-cbdd-40bf-abb5-0a8def066ac8",
   "metadata": {},
   "source": [
    "### Sequential Execution"
   ]
  },
  {
   "cell_type": "code",
   "execution_count": 1,
   "id": "c0f91e78-8c2a-4ce1-8d6b-90a50ca1401b",
   "metadata": {},
   "outputs": [
    {
     "name": "stdout",
     "output_type": "stream",
     "text": [
      "Writing function.c\n"
     ]
    }
   ],
   "source": [
    "%%writefile function.c\n",
    "#include <stdio.h>\n",
    "\n",
    "int main (int argc, char **argv)\n",
    "{\n",
    "  double coef[4], total, x;   \n",
    "  char c;\n",
    "\n",
    "  printf (\"\\nf(x) = a*x^3 + b*x^2 + c*x + d\\n\");          \n",
    "            \n",
    "  coef[0] = 1;\n",
    "  coef[1] = 2;  \n",
    "  coef[2] = 3;\n",
    "  coef[3] = 4;\n",
    "  \n",
    "  printf(\"\\nf(x)=%lf*x^3+%lf*x^2+%lf*x+%lf\\n\", coef[0], coef[1], coef[2], coef[3]);\n",
    "\n",
    "  x = 10;\n",
    "\n",
    "  total = (coef[0]* x * x * x) + (coef[1]* x * x) + (coef[2]* x + coef[3]); \n",
    "    \n",
    "  printf(\"\\nf(%lf) = %lf*x^3 + %lf*x^2 + %lf*x + %lf = %lf\\n\", x, coef[0], coef[1], coef[2], coef[3], total);\n",
    "    \n",
    "  return 0;\n",
    "    \n",
    "}"
   ]
  },
  {
   "cell_type": "markdown",
   "id": "bf967504-a3fd-48af-8f06-f1806b156548",
   "metadata": {},
   "source": [
    "### Run the Code"
   ]
  },
  {
   "cell_type": "code",
   "execution_count": 2,
   "id": "fcf9f267-0e70-45f0-9353-cf632a478cbc",
   "metadata": {},
   "outputs": [],
   "source": [
    "!gcc function.c -o function"
   ]
  },
  {
   "cell_type": "code",
   "execution_count": 3,
   "id": "1805d761-a421-4783-87c0-61ca5f134ed2",
   "metadata": {},
   "outputs": [
    {
     "name": "stdout",
     "output_type": "stream",
     "text": [
      "\n",
      "f(x) = a*x^3 + b*x^2 + c*x + d\n",
      "\n",
      "f(x)=1.000000*x^3+2.000000*x^2+3.000000*x+4.000000\n",
      "\n",
      "f(10.000000) = 1.000000*x^3 + 2.000000*x^2 + 3.000000*x + 4.000000 = 1234.000000\n"
     ]
    }
   ],
   "source": [
    "!./function"
   ]
  },
  {
   "cell_type": "markdown",
   "id": "c76bbd51-caf7-4de5-8a2c-395f0890871f",
   "metadata": {},
   "source": [
    "### Master-Workers Scheme"
   ]
  },
  {
   "cell_type": "markdown",
   "id": "96189087-7374-4802-ac28-d1adef6a7045",
   "metadata": {},
   "source": [
    "1. Master\n",
    "   * Create the Process\n",
    "   * Shows the format of the function\n",
    "   * Asks the value of x\n",
    "   * Sends the values of a, b, c and x to the workers.\n",
    "   * Shows the result of the function\n",
    "2. Workers\n",
    "   * Calculate the function and return value to the master"
   ]
  },
  {
   "cell_type": "markdown",
   "id": "4b19ab87-e496-49a5-9b0b-1f9b6fb0f94b",
   "metadata": {},
   "source": [
    "### Master-Workers MPI Execution"
   ]
  },
  {
   "cell_type": "code",
   "execution_count": 12,
   "id": "6ee1a980-b875-42c9-bff7-2e08578bebb2",
   "metadata": {},
   "outputs": [
    {
     "name": "stdout",
     "output_type": "stream",
     "text": [
      "Overwriting function.c\n"
     ]
    }
   ],
   "source": [
    "%%writefile function.c\n",
    "#include <stdio.h>\n",
    "#include <mpi.h>\n",
    "\n",
    "int main(int argc, char **argv) {\n",
    "    double coef[4], total, x;\n",
    "    double coef_rec, partial;\n",
    "    int operations_rec, operations_order[] = {1,2};\n",
    "    char c;\n",
    "\n",
    "    int numberOfProcessors, id, to, from, tag = 1000;\n",
    "\n",
    "    MPI_Init(&argc, &argv);\n",
    "    MPI_Comm_size(MPI_COMM_WORLD, & numberOfProcessors);\n",
    "    MPI_Comm_rank(MPI_COMM_WORLD, &id);\n",
    "    MPI_Status status;\n",
    "\n",
    "    switch(id){\n",
    "        case 0:\n",
    "            // Master\n",
    "            printf (\"\\nf(x) = a*x^3 + b*x^2 + c*x + d\\n\");\n",
    "\n",
    "            coef[0] = 1;\n",
    "            coef[1] = 2;  \n",
    "            coef[2] = 3;\n",
    "            coef[3] = 4;\n",
    "  \n",
    "            printf(\"\\nf(x)=%lf*x^3+%lf*x^2+%lf*x+%lf\\n\", coef[0], coef[1], coef[2], coef[3]);\n",
    "\n",
    "            x = 10;\n",
    "\n",
    "            for(to = 1; to < numberOfProcessors; to++){\n",
    "                MPI_Send(&coef[to-1], 1, MPI_DOUBLE, to, tag, MPI_COMM_WORLD);\n",
    "                MPI_Send(&x, 1, MPI_DOUBLE, to, tag, MPI_COMM_WORLD);\n",
    "                MPI_Send(&operations_order[to-1], 1, MPI_INT, to, tag, MPI_COMM_WORLD);\n",
    "            }\n",
    "\n",
    "            total = (coef[2]* x + coef[3]);\n",
    "\n",
    "            for(to = 1; to < numberOfProcessors; to++){\n",
    "                MPI_Recv(&partial, 1, MPI_DOUBLE, to, tag, MPI_COMM_WORLD, &status);\n",
    "                total += partial;\n",
    "            }\n",
    "\n",
    "            printf(\"\\nf(%lf) = %lf*x^3 + %lf*x^2 + %lf*x + %lf = %lf\\n\", x, coef[0], coef[1], coef[2], coef[3], total);\n",
    "            \n",
    "            break;\n",
    "\n",
    "        default:\n",
    "            //Workers\n",
    "\n",
    "            MPI_Recv(&coef_rec, 1, MPI_DOUBLE, 0, tag, MPI_COMM_WORLD, &status);\n",
    "            MPI_Recv(&x, 1, MPI_DOUBLE, 0, tag, MPI_COMM_WORLD, &status);\n",
    "            MPI_Recv(&operations_rec, 1, MPI_INT, 0, tag, MPI_COMM_WORLD, &status);\n",
    "\n",
    "            switch(operations_rec){\n",
    "                case 1:\n",
    "                    partial = (coef_rec * x * x * x);\n",
    "                    break;\n",
    "                case 2:\n",
    "                    partial = (coef_rec * x * x);\n",
    "                    break;\n",
    "            }\n",
    "\n",
    "            MPI_Send(&partial, 1, MPI_DOUBLE, 0, tag, MPI_COMM_WORLD);\n",
    "        \n",
    "    }\n",
    "    \n",
    "    MPI_Finalize();\n",
    "    return 0;\n",
    "}"
   ]
  },
  {
   "cell_type": "markdown",
   "id": "4cd4eb91-9b8d-441f-91d9-9acf7bcbbe5a",
   "metadata": {},
   "source": [
    "### Run the Code"
   ]
  },
  {
   "cell_type": "code",
   "execution_count": 13,
   "id": "cc95161b-df40-4cd0-b8b6-78c7632ac2fa",
   "metadata": {},
   "outputs": [],
   "source": [
    "!mpicc function.c -o functions-mpi"
   ]
  },
  {
   "cell_type": "code",
   "execution_count": 15,
   "id": "1996934a-1f41-4d11-9354-e76601706a66",
   "metadata": {},
   "outputs": [
    {
     "name": "stdout",
     "output_type": "stream",
     "text": [
      "\n",
      "f(x) = a*x^3 + b*x^2 + c*x + d\n",
      "\n",
      "f(x)=1.000000*x^3+2.000000*x^2+3.000000*x+4.000000\n",
      "\n",
      "f(10.000000) = 1.000000*x^3 + 2.000000*x^2 + 3.000000*x + 4.000000 = 1234.000000\n"
     ]
    }
   ],
   "source": [
    "!mpirun -np 3 ./functions-mpi"
   ]
  },
  {
   "cell_type": "markdown",
   "id": "eb13ed37-bc85-487a-961a-836347a6c1ec",
   "metadata": {},
   "source": [
    "### Results Analysis"
   ]
  },
  {
   "cell_type": "markdown",
   "id": "df51607c-5467-4bf1-8634-a9ea9008c567",
   "metadata": {},
   "source": []
  },
  {
   "cell_type": "markdown",
   "id": "4c283708-51ca-42ff-b74b-0bfa30520332",
   "metadata": {
    "tags": []
   },
   "source": [
    "## `Tridiagonal Matrix`"
   ]
  },
  {
   "cell_type": "markdown",
   "id": "269a271a-edcd-447b-8737-3ead4b378cca",
   "metadata": {},
   "source": [
    "### Sequential Execution"
   ]
  },
  {
   "cell_type": "code",
   "execution_count": 5,
   "id": "57f34242-b01c-4a4d-a20c-3b285fd2f041",
   "metadata": {},
   "outputs": [
    {
     "name": "stdout",
     "output_type": "stream",
     "text": [
      "Writing tridiagonal.c\n"
     ]
    }
   ],
   "source": [
    "%%writefile tridiagonal.c\n",
    "#include <stdio.h>\n",
    "#define ORDER 4\n",
    "\n",
    "void printMatrix (int m[][ORDER]) \n",
    "{\n",
    "  int i, j;\n",
    "  for(i = 0; i < ORDER; i++) {\n",
    "    printf (\"| \");\n",
    "    for (j = 0; j < ORDER; j++) {\n",
    "      printf (\"%3d \", m[i][j]);\n",
    "    }\n",
    "    printf (\"|\\n\");\n",
    "  }\n",
    "  printf (\"\\n\");\n",
    "}\n",
    "\n",
    "int main (int argc, char **argv)\n",
    "{\n",
    "  int k[3] = {100, 200, 300};\n",
    "  int matrix[ORDER][ORDER], i, j;\n",
    "\n",
    "  for(i = 0; i < ORDER; i++) \n",
    "  {\n",
    "    for(j = 0; j < ORDER; j++) \n",
    "    {\n",
    "      if( i == j )\n",
    "        matrix[i][j] = i + j +1;\n",
    "      else if(i == (j + 1)) \n",
    "      {\n",
    "        matrix[i][j] = i +  j + 1;\n",
    "        matrix[j][i] = matrix[i][j];\n",
    "      } else\n",
    "           matrix[i][j] = 0;\n",
    "     }\n",
    "  }\n",
    "  printMatrix(matrix);\n",
    "\n",
    "  for(i = 0; i < ORDER; i++)\n",
    "  {\n",
    "    matrix[i][i]     += k[0];    //main diagonal\n",
    "    matrix[i + 1][i] += k[1];    //subdiagonal\n",
    "    matrix[i][i + 1] += k[2];    //superdiagonal\n",
    "  }\n",
    "  \n",
    "   printMatrix(matrix);\n",
    "\n",
    "  return 0;\n",
    "}"
   ]
  },
  {
   "cell_type": "markdown",
   "id": "516d8529-8213-446f-a518-e2f6a6124aba",
   "metadata": {},
   "source": [
    "### Run the Code"
   ]
  },
  {
   "cell_type": "code",
   "execution_count": 6,
   "id": "fdb67c90-8caa-4f42-9ec5-174c5add5ed1",
   "metadata": {},
   "outputs": [],
   "source": [
    "!gcc tridiagonal.c -o tridiagonal "
   ]
  },
  {
   "cell_type": "code",
   "execution_count": 7,
   "id": "30e01571-7a54-4eab-87b7-0b49e539e4b4",
   "metadata": {},
   "outputs": [
    {
     "name": "stdout",
     "output_type": "stream",
     "text": [
      "|   1   2   0   0 |\n",
      "|   2   3   4   0 |\n",
      "|   0   4   5   6 |\n",
      "|   0   0   6   7 |\n",
      "\n",
      "| 101 302   0   0 |\n",
      "| 202 103 304   0 |\n",
      "|   0 204 105 306 |\n",
      "|   0   0 206 107 |\n",
      "\n",
      "*** stack smashing detected ***: terminated\n"
     ]
    }
   ],
   "source": [
    "!./tridiagonal"
   ]
  },
  {
   "cell_type": "markdown",
   "id": "3c8c5233-8dcc-436a-954a-bf4249c8c9cd",
   "metadata": {},
   "source": [
    "### Master-Workers Scheme"
   ]
  },
  {
   "cell_type": "markdown",
   "id": "210c2489-deb6-4e5c-b9c2-999cbbee0ca6",
   "metadata": {},
   "source": [
    "1. Master\n",
    "   * text\n",
    "   * text\n",
    "2. Workers\n",
    "   * text"
   ]
  },
  {
   "cell_type": "markdown",
   "id": "7b239f79-6715-454d-a433-bd1b8b48f646",
   "metadata": {},
   "source": [
    "### Master-Workers MPI Execution"
   ]
  },
  {
   "cell_type": "code",
   "execution_count": 9,
   "id": "c1f98da1-09fc-44fa-8e9b-00b1c504c860",
   "metadata": {},
   "outputs": [
    {
     "name": "stdout",
     "output_type": "stream",
     "text": [
      "Overwriting tridiagonal.c\n"
     ]
    }
   ],
   "source": [
    "%%writefile tridiagonal.c\n",
    "#include <stdio.h>\n",
    "#include <mpi.h>\n",
    "#define ORDER 4\n",
    "\n",
    "void printMatrix (int m[][ORDER]) \n",
    "{\n",
    "  int i, j;\n",
    "  for(i = 0; i < ORDER; i++) {\n",
    "    printf (\"| \");\n",
    "    for (j = 0; j < ORDER; j++) {\n",
    "      printf (\"%3d \", m[i][j]);\n",
    "    }\n",
    "    printf (\"|\\n\");\n",
    "  }\n",
    "  printf (\"\\n\");\n",
    "}\n",
    "\n",
    "int main(int argc, char **argv) {\n",
    "    int k[3] = {100,200,300};\n",
    "    int matrix[ORDER][ORDER], h, i, j;\n",
    "\n",
    "    int numberOfProcessors, id, to, from, tag = 1000;\n",
    "    int matrix_rec[ORDER][ORDER], k_rec,operations_rec, operations[] = {1,2};\n",
    "\n",
    "    MPI_Init(&argc, &argv);\n",
    "    MPI_Comm_size(MPI_COMM_WORLD, & numberOfProcessors);\n",
    "    MPI_Comm_rank(MPI_COMM_WORLD, &id);\n",
    "    MPI_Status status;\n",
    "\n",
    "    switch(id) {\n",
    "      case 0: // MASTER\n",
    "        // CREATE MATRIX\n",
    "        for(i = 0; i < ORDER; i++) {\n",
    "          for(j = 0; j < ORDER; j++) {\n",
    "            if(i == j)\n",
    "              matrix[i][j] = i + j + 1;\n",
    "            else if (i == (j + 1)) {\n",
    "              matrix[i][j] = i + j + 1;\n",
    "              matrix[j][i] = matrix[i][j];\n",
    "            } else\n",
    "              matrix[i][j] = 0;\n",
    "          }\n",
    "        }\n",
    "\n",
    "        printMatrix(matrix);\n",
    "\n",
    "        for(to = 1; to < numberOfProcessors; to++){\n",
    "          MPI_Send(&matrix, (ORDER * ORDER), MPI_INT, to, tag, MPI_COMM_WORLD);\n",
    "          MPI_Send(&k[to-1], 1, MPI_INT, to, tag, MPI_COMM_WORLD);\n",
    "          MPI_Send(&operations[to], 1, MPI_INT, to, tag, MPI_COMM_WORLD);\n",
    "        }\n",
    "\n",
    "        for(i = 0; i < ORDER; i++)\n",
    "          matrix[i][i + 1] += k[2];\n",
    "\n",
    "        for(h = 1; i < numberOfProcessors; i++){\n",
    "          MPI_Recv(&matrix_rec, (ORDER * ORDER), MPI_INT, h, tag, MPI_COMM_WORLD, &status);\n",
    "          for(i = 0; i < ORDER; i++){\n",
    "            for(j = 0; j < ORDER; j++){\n",
    "              matrix[i][j] = matrix[i][j] + matrix_rec[i][j];\n",
    "            }\n",
    "          }\n",
    "        }\n",
    "\n",
    "        printMatrix(matrix);\n",
    "        break;\n",
    "      default:\n",
    "        MPI_Recv(&matrix_rec, (ORDER * ORDER), MPI_INT, 0, tag, MPI_COMM_WORLD, &status);\n",
    "        MPI_Recv(&k_rec, 1, MPI_INT, 0, tag, MPI_COMM_WORLD, &status);\n",
    "        MPI_Recv(&operations_rec, 1, MPI_INT, 0, tag, MPI_COMM_WORLD, &status);\n",
    "\n",
    "        switch(operations_rec){\n",
    "          case 0:\n",
    "            for(i = 0; i < ORDER; i++) {\n",
    "              matrix_rec[i][i] += k_rec;\n",
    "            }\n",
    "            break;\n",
    "          case 1:\n",
    "            for(i = 0; i < ORDER; i++) {\n",
    "              matrix_rec[i + 1][i] += k_rec;\n",
    "            }\n",
    "        }\n",
    "\n",
    "        MPI_Send(&matrix_rec, (ORDER*ORDER), MPI_INT, 0, tag, MPI_COMM_WORLD);\n",
    "    }\n",
    "\n",
    "    MPI_Finalize();\n",
    "    return 0;\n",
    "}"
   ]
  },
  {
   "cell_type": "markdown",
   "id": "373e7198-2161-49b3-8d9f-4085bcfc96ec",
   "metadata": {},
   "source": [
    "### Run the Code"
   ]
  },
  {
   "cell_type": "code",
   "execution_count": 10,
   "id": "79fa249d-204d-4f38-86b5-b53fd7d4962b",
   "metadata": {},
   "outputs": [],
   "source": [
    "!mpicc tridiagonal.c -o tridiagonal-mpi"
   ]
  },
  {
   "cell_type": "code",
   "execution_count": 13,
   "id": "23263023-77b1-4c14-b491-691921303dd4",
   "metadata": {},
   "outputs": [
    {
     "name": "stdout",
     "output_type": "stream",
     "text": [
      "|   1   2   0   0 |\n",
      "|   2   3   4   0 |\n",
      "|   0   4   5   6 |\n",
      "|   0   0   6   7 |\n",
      "\n",
      "|   1 302   0   0 |\n",
      "|   2   3 304   0 |\n",
      "|   0   4   5 306 |\n",
      "|   0   0   6   7 |\n",
      "\n"
     ]
    }
   ],
   "source": [
    "!mpirun -np 3 ./tridiagonal-mpi"
   ]
  },
  {
   "cell_type": "markdown",
   "id": "e354ae8c-b91a-4f2b-b6d0-dc65c5c14935",
   "metadata": {},
   "source": [
    "### Results Analysis"
   ]
  },
  {
   "cell_type": "markdown",
   "id": "b6aa99c0-da62-4fcc-89a0-16dda1e2758f",
   "metadata": {},
   "source": []
  },
  {
   "cell_type": "markdown",
   "id": "ad055c0c-b24d-4d0f-8b8c-3093b0c601b5",
   "metadata": {
    "tags": []
   },
   "source": [
    "## References"
   ]
  },
  {
   "cell_type": "markdown",
   "id": "a5fdf090-9dd3-491b-947f-81af7b8af818",
   "metadata": {},
   "source": [
    "M. Boratto. Hands-On Supercomputing with Parallel Computing. Available: https://github.com/muriloboratto/Hands-On-Supercomputing-with-Parallel-Computing. 2022."
   ]
  },
  {
   "cell_type": "markdown",
   "id": "6a02e6bc-84d6-44d4-bb66-2a98941d08d0",
   "metadata": {},
   "source": [
    "B. Chapman, G. Jost and R. Pas. Using OpenMP: Portable Shared Memory Parallel Programming. The MIT Press, 2007, USA."
   ]
  }
 ],
 "metadata": {
  "kernelspec": {
   "display_name": "Python 3 (ipykernel)",
   "language": "python",
   "name": "python3"
  },
  "language_info": {
   "codemirror_mode": {
    "name": "ipython",
    "version": 3
   },
   "file_extension": ".py",
   "mimetype": "text/x-python",
   "name": "python",
   "nbconvert_exporter": "python",
   "pygments_lexer": "ipython3",
   "version": "3.10.12"
  }
 },
 "nbformat": 4,
 "nbformat_minor": 5
}
