{
 "cells": [
  {
   "cell_type": "markdown",
   "metadata": {
    "id": "xXATwZ8VxZG7"
   },
   "source": [
    "# MPI\n",
    "\n",
    " Murilo Boratto$^1$\n",
    "\n",
    "$^1$ SENAI CIMATEC <br />\n",
    "     &nbsp;&nbsp;&nbsp; Centro de Supercomputação<br />"
   ]
  },
  {
   "cell_type": "markdown",
   "metadata": {
    "id": "MyB9gzUjSGKc"
   },
   "source": [
    "## Instalação  MPI"
   ]
  },
  {
   "cell_type": "markdown",
   "metadata": {
    "id": "orxl23v_xqVe"
   },
   "source": [
    "Este é o passo a passo de como instalar o MPI em ambiente virtual do Colab, utilizando a implementação open source."
   ]
  },
  {
   "cell_type": "code",
   "execution_count": 3,
   "metadata": {
    "colab": {
     "base_uri": "https://localhost:8080/"
    },
    "executionInfo": {
     "elapsed": 8743,
     "status": "ok",
     "timestamp": 1694023557348,
     "user": {
      "displayName": "Murilo Boratto",
      "userId": "13998345321799991370"
     },
     "user_tz": 180
    },
    "id": "cIWeteLFbMdM",
    "outputId": "a9ebc6f4-ab46-4c79-abbb-b387d1076827"
   },
   "outputs": [
    {
     "name": "stdout",
     "output_type": "stream",
     "text": [
      "[sudo] password for roberto: \n"
     ]
    }
   ],
   "source": [
    "!sudo apt install libopenmpi-dev"
   ]
  },
  {
   "cell_type": "markdown",
   "metadata": {
    "id": "823d_hqHqTdN"
   },
   "source": [
    "### Hello World!"
   ]
  },
  {
   "cell_type": "code",
   "execution_count": 1,
   "metadata": {
    "colab": {
     "base_uri": "https://localhost:8080/"
    },
    "executionInfo": {
     "elapsed": 320,
     "status": "ok",
     "timestamp": 1694023683513,
     "user": {
      "displayName": "Murilo Boratto",
      "userId": "13998345321799991370"
     },
     "user_tz": 180
    },
    "id": "2hTtR30ikC5N",
    "outputId": "2a2c223a-4be5-420a-c4a9-13ce317ce827"
   },
   "outputs": [
    {
     "name": "stdout",
     "output_type": "stream",
     "text": [
      "Overwriting hello-mpi.c\n"
     ]
    }
   ],
   "source": [
    "%%writefile hello-mpi.c\n",
    "#include <mpi.h>\n",
    "#include <stdio.h>\n",
    "\n",
    "int main(int argc, char ** argv)\n",
    "{\n",
    "    int rank, size;\n",
    "\n",
    "    MPI_Init(&argc, &argv);\n",
    "    MPI_Comm_rank(MPI_COMM_WORLD, &rank);\n",
    "    MPI_Comm_size(MPI_COMM_WORLD, &size);\n",
    "\n",
    "    printf(\"Hello World from process %d of %d\\n\", rank, size);\n",
    "\n",
    "    MPI_Finalize();\n",
    "\n",
    "    return 0;\n",
    "}"
   ]
  },
  {
   "cell_type": "code",
   "execution_count": 3,
   "metadata": {
    "executionInfo": {
     "elapsed": 309,
     "status": "ok",
     "timestamp": 1694023686067,
     "user": {
      "displayName": "Murilo Boratto",
      "userId": "13998345321799991370"
     },
     "user_tz": 180
    },
    "id": "FTVBh76aSywY"
   },
   "outputs": [],
   "source": [
    "!mpicc hello-mpi.c -o hello-mpi"
   ]
  },
  {
   "cell_type": "code",
   "execution_count": 4,
   "metadata": {
    "colab": {
     "base_uri": "https://localhost:8080/"
    },
    "executionInfo": {
     "elapsed": 771,
     "status": "ok",
     "timestamp": 1694023873699,
     "user": {
      "displayName": "Murilo Boratto",
      "userId": "13998345321799991370"
     },
     "user_tz": 180
    },
    "id": "TCAWmPrRYc6W",
    "outputId": "da21f0d3-c44c-4ac1-fb1c-8669554a2c3a"
   },
   "outputs": [
    {
     "name": "stdout",
     "output_type": "stream",
     "text": [
      "Hello World from process 0 of 4\n",
      "Hello World from process 1 of 4\n",
      "Hello World from process 2 of 4\n",
      "Hello World from process 3 of 4\n"
     ]
    }
   ],
   "source": [
    "!mpirun -np 4 ./hello-mpi"
   ]
  },
  {
   "cell_type": "markdown",
   "metadata": {
    "id": "edaoNwRFeJK9"
   },
   "source": [
    "### MPI #1 - Send x Recv"
   ]
  },
  {
   "cell_type": "code",
   "execution_count": 5,
   "metadata": {
    "colab": {
     "base_uri": "https://localhost:8080/"
    },
    "executionInfo": {
     "elapsed": 306,
     "status": "ok",
     "timestamp": 1694023884646,
     "user": {
      "displayName": "Murilo Boratto",
      "userId": "13998345321799991370"
     },
     "user_tz": 180
    },
    "id": "MZpA7sUlLVgZ",
    "outputId": "26504608-7719-4762-96df-5171cce1cdde"
   },
   "outputs": [
    {
     "name": "stdout",
     "output_type": "stream",
     "text": [
      "Writing mpi-Send-Recv.c\n"
     ]
    }
   ],
   "source": [
    "%%writefile mpi-Send-Recv.c\n",
    "#include <stdio.h>\n",
    "#include <mpi.h>\n",
    "\n",
    "int main (int argc, char *argv[])\n",
    "{\n",
    "  int a[8] = {1,2,3,4,5,6,7,8};\n",
    "  int b[8];\n",
    "\n",
    "  int numOfProcessors, rank, dest,i, tag = 1000;\n",
    "\n",
    "  MPI_Init(&argc, &argv);\n",
    "  MPI_Comm_size(MPI_COMM_WORLD, &numOfProcessors);\n",
    "  MPI_Comm_rank(MPI_COMM_WORLD,&rank);\n",
    "  MPI_Status status;\n",
    "\n",
    "  if(rank == 0){\n",
    "\n",
    "      for (dest = 1; dest < numOfProcessors; dest++)\n",
    "        MPI_Send(&a, 8, MPI_INT, dest, tag, MPI_COMM_WORLD);\n",
    "\n",
    "  }else{\n",
    "\n",
    "     MPI_Recv(&b, 8, MPI_INT, 0, tag, MPI_COMM_WORLD, &status);\n",
    "\n",
    "     for(i = 0; i < 8; i++)\n",
    "       printf(\"%d\\t\", b[i]);\n",
    "\n",
    "     printf(\"\\n\");\n",
    "\n",
    "  }\n",
    "\n",
    "  MPI_Finalize();\n",
    "\n",
    "  return 0;\n",
    "\n",
    "}"
   ]
  },
  {
   "cell_type": "code",
   "execution_count": 6,
   "metadata": {
    "executionInfo": {
     "elapsed": 381,
     "status": "ok",
     "timestamp": 1694023887717,
     "user": {
      "displayName": "Murilo Boratto",
      "userId": "13998345321799991370"
     },
     "user_tz": 180
    },
    "id": "W6r-gx0_Ld2G"
   },
   "outputs": [],
   "source": [
    "!mpicc mpi-Send-Recv.c -o mpi-Send-Recv"
   ]
  },
  {
   "cell_type": "code",
   "execution_count": 7,
   "metadata": {
    "executionInfo": {
     "elapsed": 805,
     "status": "ok",
     "timestamp": 1694023926993,
     "user": {
      "displayName": "Murilo Boratto",
      "userId": "13998345321799991370"
     },
     "user_tz": 180
    },
    "id": "RL9LL2OmLhvM"
   },
   "outputs": [
    {
     "name": "stdout",
     "output_type": "stream",
     "text": [
      "1\t2\t3\t4\t5\t6\t7\t8\t\n",
      "1\t2\t3\t4\t5\t6\t7\t8\t\n",
      "1\t2\t3\t4\t5\t6\t7\t8\t\n"
     ]
    }
   ],
   "source": [
    "!mpirun -np 4  ./mpi-Send-Recv"
   ]
  },
  {
   "cell_type": "markdown",
   "metadata": {
    "id": "rFTvpmQBeJK-"
   },
   "source": [
    "### MPI #2 - MPI array"
   ]
  },
  {
   "cell_type": "code",
   "execution_count": 1,
   "metadata": {
    "colab": {
     "base_uri": "https://localhost:8080/"
    },
    "executionInfo": {
     "elapsed": 316,
     "status": "ok",
     "timestamp": 1694023907841,
     "user": {
      "displayName": "Murilo Boratto",
      "userId": "13998345321799991370"
     },
     "user_tz": 180
    },
    "id": "1B3TRZ5CeJK_",
    "outputId": "3df1a4e5-45be-42fe-a3d4-81b2e040bd19"
   },
   "outputs": [
    {
     "name": "stdout",
     "output_type": "stream",
     "text": [
      "Overwriting mpi-array.c\n"
     ]
    }
   ],
   "source": [
    "%%writefile mpi-array.c\n",
    "#include <stdio.h>\n",
    "#include <stdlib.h>\n",
    "#include <mpi.h>\n",
    "\n",
    "#define  ARRAYSIZE\t16\n",
    "#define  MASTER\t\t0\n",
    "\n",
    "int  data[ARRAYSIZE];\n",
    "\n",
    "int update(int position, int sizeBlock)\n",
    "{\n",
    " int i, suma = 0;\n",
    "\n",
    " for(i = position; i < (position + sizeBlock); i++)\n",
    "   suma = suma + data[i];\n",
    "\n",
    "  return(suma);\n",
    "}\n",
    "\n",
    "\n",
    "int main (int argc, char *argv[]){\n",
    "\n",
    "\n",
    " int a[16] = {1, 2, 3, 4, 5, 6, 7, 8, 9, 10, 11, 12, 13, 14, 15, 16};\n",
    "\n",
    " int numtasks, taskid, dest, position, i, j, tag1=1000, tag2=2000, source, sizeBlock,\n",
    "     suma, cont, sumatotal;\n",
    "\n",
    " MPI_Init(&argc, &argv);\n",
    " MPI_Comm_size(MPI_COMM_WORLD, &numtasks); /*numtasks= number of processes*/\n",
    " MPI_Status status;\n",
    "\n",
    " int vectorSuma[numtasks];/* 4 */\n",
    "\n",
    " MPI_Comm_rank(MPI_COMM_WORLD,&taskid);\n",
    "\n",
    " sizeBlock = (ARRAYSIZE / numtasks); /* 16/4 = 4 */\n",
    "\n",
    "/************************* MASTER **************************************/\n",
    "\n",
    "  if (taskid == MASTER)\n",
    "  {\n",
    "\n",
    "  /*------ Initialize array ------------- */\n",
    "\n",
    "    for(i = 0; i < ARRAYSIZE; i++) //16\n",
    "     data[i] =  a[i];\n",
    "\n",
    "    printf(\"\\n:: (1) Initialize array :: \\n\\n\");\n",
    "\n",
    "    for(i = 0; i < ARRAYSIZE; i++)\n",
    "     printf(\"%d\\t\", data[i]);\n",
    "\n",
    "\n",
    "    printf(\"\\n\");\n",
    "\n",
    "    position = sizeBlock;\n",
    "\n",
    "/*-------------- MASTER SEND TO WORKERS -----------------*/\n",
    "\n",
    "    printf(\"\\n:: (2) Send array parts :: \\n\");\n",
    "\n",
    "    for (dest = 1; dest < numtasks; dest++)\n",
    "    {\n",
    "      MPI_Send(&position, 1, MPI_INT, dest, tag1, MPI_COMM_WORLD);\n",
    "      MPI_Send(&data[position], sizeBlock, MPI_INT, dest, tag2, MPI_COMM_WORLD);\n",
    "\n",
    "      printf(\"\\ndata[%d]= %d origin = %d\\n\",position,data[position], dest);\n",
    "      position = position + sizeBlock;\n",
    "    }/*for*/\n",
    "\n",
    "/*--------- MASTER DATA PROCESS --------------------------*/\n",
    "\n",
    "    position = 0;\n",
    "    suma = update(position, sizeBlock) ;\n",
    "    printf(\"\\nsum Master = %d\\n\", suma);\n",
    "\n",
    "/*--------- MASTER DATA PROCESS --------------------------*/\n",
    "\n",
    "    sumatotal = suma;\n",
    "\n",
    "/*-------- MASTER RECIBE FROM LOS WORKERS ------------------*/\n",
    "\n",
    "    for(i = 1; i < numtasks; i++)\n",
    "    {\n",
    "     vectorSuma[i]= suma;\n",
    "     source = i;\n",
    "\n",
    "     MPI_Recv(&suma, 1, MPI_INT, source, 3,MPI_COMM_WORLD, &status);\n",
    "\n",
    "     sumatotal+=suma;\n",
    "\n",
    "     printf(\"sum Worker = %d\\n\", suma);\n",
    "\n",
    "    }\n",
    "\n",
    "    printf(\"\\nTOTAL RESULT= %d\\n\\n\", sumatotal);\n",
    "\n",
    "   }\n",
    "\n",
    "/******************* WORKERS ***************************************************/\n",
    "\n",
    "   if (taskid > MASTER)\n",
    "   {\n",
    "    source = MASTER;\n",
    "\n",
    "    MPI_Recv(&position, 1, MPI_INT, source, tag1, MPI_COMM_WORLD, &status);\n",
    "    MPI_Recv(&data[position], sizeBlock, MPI_INT, source, tag2, MPI_COMM_WORLD, &status);\n",
    "\n",
    "   /*--------- WORKER DATA PROCESS-------------------------*/\n",
    "\n",
    "           suma = update(position,sizeBlock);\n",
    "\n",
    "   /*--------- WORKER DATA PROCESS --------------------------*/\n",
    "\n",
    "    dest = MASTER;\n",
    "\n",
    "    MPI_Send(&suma,1, MPI_INT, MASTER, 3, MPI_COMM_WORLD);\n",
    "\n",
    "   }\n",
    "\n",
    "   MPI_Finalize();\n",
    "\n",
    "   return 0;\n",
    "\n",
    "}/*main*/\n"
   ]
  },
  {
   "cell_type": "code",
   "execution_count": 2,
   "metadata": {
    "executionInfo": {
     "elapsed": 398,
     "status": "ok",
     "timestamp": 1694023913831,
     "user": {
      "displayName": "Murilo Boratto",
      "userId": "13998345321799991370"
     },
     "user_tz": 180
    },
    "id": "inrnf5OpeJK_"
   },
   "outputs": [],
   "source": [
    "!mpicc mpi-array.c -o mpi-array"
   ]
  },
  {
   "cell_type": "code",
   "execution_count": 3,
   "metadata": {
    "colab": {
     "base_uri": "https://localhost:8080/"
    },
    "executionInfo": {
     "elapsed": 772,
     "status": "ok",
     "timestamp": 1694023937806,
     "user": {
      "displayName": "Murilo Boratto",
      "userId": "13998345321799991370"
     },
     "user_tz": 180
    },
    "id": "qfwoEnWKeJK_",
    "outputId": "e2843e99-6b28-4ecc-e963-26530e28de98"
   },
   "outputs": [
    {
     "name": "stdout",
     "output_type": "stream",
     "text": [
      "--------------------------------------------------------------------------\n",
      "WARNING: There was an error initializing an OpenFabrics device.\n",
      "\n",
      "  Local host:   c000\n",
      "  Local device: mlx5_0\n",
      "--------------------------------------------------------------------------\n",
      "\n",
      ":: (1) Initialize array :: \n",
      "\n",
      "1\t2\t3\t4\t5\t6\t7\t8\t9\t10\t11\t12\t13\t14\t15\t16\t\n",
      "\n",
      ":: (2) Send array parts :: \n",
      "\n",
      "data[4]= 5 origin = 1\n",
      "\n",
      "data[8]= 9 origin = 2\n",
      "\n",
      "data[12]= 13 origin = 3\n",
      "\n",
      "sum Master = 10\n",
      "sum Worker = 26\n",
      "sum Worker = 42\n",
      "sum Worker = 58\n",
      "\n",
      "TOTAL RESULT= 136\n",
      "\n",
      "[c000:39095] 3 more processes have sent help message help-mpi-btl-openib.txt / error in device init\n",
      "[c000:39095] Set MCA parameter \"orte_base_help_aggregate\" to 0 to see all help / error messages\n"
     ]
    }
   ],
   "source": [
    "!mpirun -np 4 ./mpi-array"
   ]
  },
  {
   "cell_type": "markdown",
   "metadata": {
    "id": "HSD50A0UeJK_"
   },
   "source": [
    "### MPI #3 - MPI Sort"
   ]
  },
  {
   "cell_type": "code",
   "execution_count": 10,
   "metadata": {
    "colab": {
     "base_uri": "https://localhost:8080/"
    },
    "executionInfo": {
     "elapsed": 308,
     "status": "ok",
     "timestamp": 1694023944098,
     "user": {
      "displayName": "Murilo Boratto",
      "userId": "13998345321799991370"
     },
     "user_tz": 180
    },
    "id": "TWHlYW3AeJLA",
    "outputId": "cfcd38b2-e173-43e0-8ef2-69c7b4fa8e38"
   },
   "outputs": [
    {
     "name": "stdout",
     "output_type": "stream",
     "text": [
      "Writing mpi-sort.c\n"
     ]
    }
   ],
   "source": [
    "%%writefile mpi-sort.c\n",
    "#include <mpi.h>\n",
    "#include <stdio.h>\n",
    "#include <stdlib.h>\n",
    "\n",
    "void start(int v[], int qtd){\n",
    "\n",
    "  int i;\n",
    "\n",
    "  for(i = 0; i < qtd; i++)\n",
    "     v[i] = rand()%(100-1)*1;\n",
    "\n",
    "}\n",
    "\n",
    "void print(int v[], int qtd){\n",
    "\n",
    "  int i;\n",
    "\n",
    "  for(i = 0; i < qtd; i++)\n",
    "     printf(\"%d\\t\", v[i]);\n",
    "\n",
    "  printf(\"\\n\\n\");\n",
    "\n",
    "}\n",
    "\n",
    "void sort(int v[], int qtd){\n",
    "\n",
    "  int i, j, aux;\n",
    "  int k = qtd - 1 ;\n",
    "\n",
    "  for(i = 0; i < qtd; i++){\n",
    "     for(j = 0; j < k; j++){\n",
    "        if(v[j] > v[j+1])\n",
    "        {\n",
    "            aux = v[j];\n",
    "        v[j] = v[j+1];\n",
    "        v[j+1]=aux;\n",
    "        }\n",
    "     }\n",
    "     k--;\n",
    "  }\n",
    "\n",
    "}\n",
    "\n",
    "\n",
    "int main(int argc, char ** argv)\n",
    "{\n",
    "    int rank, a[100], b[50];\n",
    "\n",
    "    MPI_Init(&argc, &argv);\n",
    "    MPI_Comm_rank(MPI_COMM_WORLD, &rank);\n",
    "\n",
    "    if(rank == 0) {\n",
    "        start(a, 100);\n",
    "        print(a, 100);\n",
    "\n",
    "        MPI_Send(&a[50], 50, MPI_INT, 1, 0, MPI_COMM_WORLD);\n",
    "        sort(a, 50);\n",
    "        print(a, 50);\n",
    "\n",
    "        MPI_Recv(b, 50, MPI_INT, 1, 0, MPI_COMM_WORLD, MPI_STATUS_IGNORE);\n",
    "        print(b, 50);\n",
    "\n",
    "        /* Serial: Merge array b and sorted part of array a */\n",
    "    }\n",
    "    else if (rank == 1) {\n",
    "        MPI_Recv(b, 50, MPI_INT, 0, 0, MPI_COMM_WORLD, MPI_STATUS_IGNORE);\n",
    "        sort(b, 50);\n",
    "        MPI_Send(b, 50, MPI_INT, 0, 0, MPI_COMM_WORLD);\n",
    "    }\n",
    "\n",
    "    MPI_Finalize();\n",
    "\n",
    "    return 0;\n",
    "}"
   ]
  },
  {
   "cell_type": "code",
   "execution_count": 11,
   "metadata": {
    "executionInfo": {
     "elapsed": 293,
     "status": "ok",
     "timestamp": 1694023950120,
     "user": {
      "displayName": "Murilo Boratto",
      "userId": "13998345321799991370"
     },
     "user_tz": 180
    },
    "id": "5jw0RGh9eJLA"
   },
   "outputs": [],
   "source": [
    "!mpicc mpi-sort.c -o mpi-sort"
   ]
  },
  {
   "cell_type": "code",
   "execution_count": 13,
   "metadata": {
    "colab": {
     "base_uri": "https://localhost:8080/"
    },
    "executionInfo": {
     "elapsed": 1592,
     "status": "ok",
     "timestamp": 1694023959319,
     "user": {
      "displayName": "Murilo Boratto",
      "userId": "13998345321799991370"
     },
     "user_tz": 180
    },
    "id": "VwjdneZQeJLA",
    "outputId": "6bd9f0df-1730-46e7-d6e6-57f0d2cb43c4"
   },
   "outputs": [
    {
     "name": "stdout",
     "output_type": "stream",
     "text": [
      "--------------------------------------------------------------------------\n",
      "WARNING: There was an error initializing an OpenFabrics device.\n",
      "\n",
      "  Local host:   c000\n",
      "  Local device: mlx5_0\n",
      "--------------------------------------------------------------------------\n",
      "28\t43\t72\t79\t23\t70\t55\t39\t69\t1\t41\t40\t5\t25\t95\t4\t42\t54\t79\t55\t98\t8\t60\t33\t26\t17\t44\t76\t91\t10\t32\t18\t54\t3\t95\t75\t73\t52\t13\t43\t51\t54\t81\t56\t77\t76\t59\t20\t29\t39\t74\t28\t46\t35\t62\t72\t50\t5\t49\t40\t15\t81\t59\t69\t83\t53\t43\t57\t4\t56\t0\t54\t9\t81\t11\t87\t56\t68\t6\t86\t7\t78\t15\t53\t14\t75\t24\t65\t80\t73\t6\t96\t53\t63\t64\t37\t16\t9\t93\t20\t\n",
      "\n",
      "1\t3\t4\t5\t8\t10\t13\t17\t18\t20\t23\t25\t26\t28\t29\t32\t33\t39\t39\t40\t41\t42\t43\t43\t44\t51\t52\t54\t54\t54\t55\t55\t56\t59\t60\t69\t70\t72\t73\t75\t76\t76\t77\t79\t79\t81\t91\t95\t95\t98\t\n",
      "\n",
      "0\t4\t5\t6\t6\t7\t9\t9\t11\t14\t15\t15\t16\t20\t24\t28\t35\t37\t40\t43\t46\t49\t50\t53\t53\t53\t54\t56\t56\t57\t59\t62\t63\t64\t65\t68\t69\t72\t73\t74\t75\t78\t80\t81\t81\t83\t86\t87\t93\t96\t\n",
      "\n",
      "[c000:17829] 1 more process has sent help message help-mpi-btl-openib.txt / error in device init\n",
      "[c000:17829] Set MCA parameter \"orte_base_help_aggregate\" to 0 to see all help / error messages\n"
     ]
    }
   ],
   "source": [
    "!mpirun -np 2 ./mpi-sort"
   ]
  },
  {
   "cell_type": "markdown",
   "metadata": {
    "id": "dYP1lJrZok32"
   },
   "source": [
    "### MPI #4 - MPI_Bcast"
   ]
  },
  {
   "cell_type": "code",
   "execution_count": 19,
   "metadata": {
    "colab": {
     "base_uri": "https://localhost:8080/"
    },
    "executionInfo": {
     "elapsed": 289,
     "status": "ok",
     "timestamp": 1694024010234,
     "user": {
      "displayName": "Murilo Boratto",
      "userId": "13998345321799991370"
     },
     "user_tz": 180
    },
    "id": "IH8IX1MAok33",
    "outputId": "c2c0824b-64f1-4930-f6f2-2e4d513effb3"
   },
   "outputs": [
    {
     "name": "stdout",
     "output_type": "stream",
     "text": [
      "Overwriting mpiBcast.c\n"
     ]
    }
   ],
   "source": [
    "%%writefile mpiBcast.c\n",
    "#include <mpi.h>\n",
    "#include <cstdio>\n",
    "#include <cstdlib>\n",
    "\n",
    "void print_vector(int rank, int *in, int n, int label){\n",
    "\n",
    " if(label)\n",
    "  printf(\"[%d]\\t\", rank);\n",
    "   else\n",
    "     printf(\"  \\t\");\n",
    "\n",
    " for(int i=0; i < n; i++)\n",
    "  printf(\"%d\\t\", in[i]);\n",
    "\n",
    " printf(\"\\n\");\n",
    "\n",
    "}\n",
    "\n",
    "int main(int argc, char* argv[]) {\n",
    "\n",
    "  int i, rank, size;\n",
    "\n",
    "  MPI_Init (&argc, &argv);\n",
    "  MPI_Comm_rank (MPI_COMM_WORLD, &rank);\n",
    "  MPI_Comm_size (MPI_COMM_WORLD, &size);\n",
    "\n",
    "  int data_size = 8;\n",
    "\n",
    "  int *data  = (int*) malloc(data_size * sizeof(int));\n",
    "\n",
    "  if(rank == 0) {\n",
    "      for(int i = 0; i < data_size; i++)\n",
    "         data[i] = rand()%(10-2)*2;\n",
    "\n",
    "      print_vector(rank, data, data_size, 0);\n",
    "  }\n",
    "\n",
    "  MPI_Bcast(data, data_size, MPI_INT, 0, MPI_COMM_WORLD);\n",
    "\n",
    "  for(int i = 0; i < data_size; i++)\n",
    "      data[i] *= 2;\n",
    "\n",
    "  print_vector(rank, data, data_size, 1);\n",
    "\n",
    "  MPI_Finalize();\n",
    "\n",
    "  return 0;\n",
    "\n",
    "}/*main*/"
   ]
  },
  {
   "cell_type": "code",
   "execution_count": 20,
   "metadata": {
    "colab": {
     "base_uri": "https://localhost:8080/"
    },
    "executionInfo": {
     "elapsed": 313,
     "status": "ok",
     "timestamp": 1694024005577,
     "user": {
      "displayName": "Murilo Boratto",
      "userId": "13998345321799991370"
     },
     "user_tz": 180
    },
    "id": "jXKV9XKZok33",
    "outputId": "9819e69c-742b-412c-ae39-04588885cfc7"
   },
   "outputs": [],
   "source": [
    "!mpicxx mpiBcast.c -o mpiBcast"
   ]
  },
  {
   "cell_type": "code",
   "execution_count": 21,
   "metadata": {
    "colab": {
     "base_uri": "https://localhost:8080/"
    },
    "executionInfo": {
     "elapsed": 311,
     "status": "ok",
     "timestamp": 1694024019839,
     "user": {
      "displayName": "Murilo Boratto",
      "userId": "13998345321799991370"
     },
     "user_tz": 180
    },
    "id": "JAg-VF-qok33",
    "outputId": "e7d4101b-3a57-4e73-fe12-94b677161ef4"
   },
   "outputs": [
    {
     "name": "stdout",
     "output_type": "stream",
     "text": [
      "--------------------------------------------------------------------------\n",
      "WARNING: There was an error initializing an OpenFabrics device.\n",
      "\n",
      "  Local host:   c000\n",
      "  Local device: mlx5_0\n",
      "--------------------------------------------------------------------------\n",
      "  \t14\t12\t2\t6\t2\t14\t4\t8\t\n",
      "[0]\t28\t24\t4\t12\t4\t28\t8\t16\t\n",
      "[2]\t28\t24\t4\t12\t4\t28\t8\t16\t\n",
      "[1]\t28\t24\t4\t12\t4\t28\t8\t16\t\n",
      "[3]\t28\t24\t4\t12\t4\t28\t8\t16\t\n",
      "[c000:21161] 3 more processes have sent help message help-mpi-btl-openib.txt / error in device init\n",
      "[c000:21161] Set MCA parameter \"orte_base_help_aggregate\" to 0 to see all help / error messages\n"
     ]
    }
   ],
   "source": [
    "!mpirun -np 4 ./mpiBcast"
   ]
  },
  {
   "cell_type": "markdown",
   "metadata": {
    "id": "_0ETM5MEok34"
   },
   "source": [
    "### MPI #5 - MPI_Reduce"
   ]
  },
  {
   "cell_type": "code",
   "execution_count": 22,
   "metadata": {
    "id": "l8uGC3h2ok34"
   },
   "outputs": [
    {
     "name": "stdout",
     "output_type": "stream",
     "text": [
      "Writing mpiReduce.c\n"
     ]
    }
   ],
   "source": [
    "%%writefile mpiReduce.c\n",
    "#include <mpi.h>\n",
    "#include <cstdio>\n",
    "#include <cstdlib>\n",
    "\n",
    "void print_vector(double *in, int n){\n",
    "\n",
    " for(int i=0; i < n; i++)\n",
    "  printf(\"%1.2f\\t\", in[i]);\n",
    "\n",
    " printf(\"\\n\");\n",
    "\n",
    "}/*print_vector*/\n",
    "\n",
    "\n",
    "int main(int argc, char* argv[]) {\n",
    "\n",
    "  int i, rank, size;\n",
    "  double result = 0, result_f;\n",
    "\n",
    "  MPI_Init (&argc, &argv);\n",
    "  MPI_Comm_rank (MPI_COMM_WORLD, &rank);\n",
    "  MPI_Comm_size (MPI_COMM_WORLD, &size);\n",
    "\n",
    "  int data_size = 8;\n",
    "\n",
    "  double *x  = (double*) malloc(data_size * sizeof(double));\n",
    "  double *y  = (double*) malloc(data_size * sizeof(double));\n",
    "\n",
    "  for(int i = 0; i < data_size; i++){\n",
    "      x[i] = 1;\n",
    "      y[i] = 2;\n",
    "      result = result + x[i] * y[i];\n",
    "  }\n",
    "\n",
    "  if(rank == 0 || rank){\n",
    "    printf(\"Rank %d\\n\", rank);\n",
    "    print_vector(x, data_size);\n",
    "    print_vector(y, data_size);\n",
    "  }\n",
    "\n",
    "  MPI_Reduce(&result, &result_f, 1, MPI_DOUBLE, MPI_SUM, 0, MPI_COMM_WORLD);\n",
    "\n",
    "  if(rank == 0)\n",
    "    printf(\"dot(x,y) = %f\\n\", result_f);\n",
    "\n",
    "  MPI_Finalize();\n",
    "\n",
    "  return 0;\n",
    "\n",
    "}/*main*/"
   ]
  },
  {
   "cell_type": "code",
   "execution_count": 24,
   "metadata": {
    "id": "2atA13E5ok34"
   },
   "outputs": [],
   "source": [
    "!mpicxx mpiReduce.c -o mpiReduce"
   ]
  },
  {
   "cell_type": "code",
   "execution_count": 25,
   "metadata": {
    "id": "ypwqlaMDok34"
   },
   "outputs": [
    {
     "name": "stdout",
     "output_type": "stream",
     "text": [
      "--------------------------------------------------------------------------\n",
      "WARNING: There was an error initializing an OpenFabrics device.\n",
      "\n",
      "  Local host:   c000\n",
      "  Local device: mlx5_0\n",
      "--------------------------------------------------------------------------\n",
      "Rank 0\n",
      "1.00\t1.00\t1.00\t1.00\t1.00\t1.00\t1.00\t1.00\t\n",
      "2.00\t2.00\t2.00\t2.00\t2.00\t2.00\t2.00\t2.00\t\n",
      "dot(x,y) = 64.000000\n",
      "Rank 1\n",
      "1.00\t1.00\t1.00\t1.00\t1.00\t1.00\t1.00\t1.00\t\n",
      "2.00\t2.00\t2.00\t2.00\t2.00\t2.00\t2.00\t2.00\t\n",
      "Rank 2\n",
      "1.00\t1.00\t1.00\t1.00\t1.00\t1.00\t1.00\t1.00\t\n",
      "2.00\t2.00\t2.00\t2.00\t2.00\t2.00\t2.00\t2.00\t\n",
      "Rank 3\n",
      "1.00\t1.00\t1.00\t1.00\t1.00\t1.00\t1.00\t1.00\t\n",
      "2.00\t2.00\t2.00\t2.00\t2.00\t2.00\t2.00\t2.00\t\n",
      "[c000:22310] 3 more processes have sent help message help-mpi-btl-openib.txt / error in device init\n",
      "[c000:22310] Set MCA parameter \"orte_base_help_aggregate\" to 0 to see all help / error messages\n"
     ]
    }
   ],
   "source": [
    "!mpirun -np 4 ./mpiReduce"
   ]
  },
  {
   "cell_type": "markdown",
   "metadata": {
    "id": "ZdvRV7cpok35"
   },
   "source": [
    "### MPI #6 - MPI_Gather"
   ]
  },
  {
   "cell_type": "code",
   "execution_count": 26,
   "metadata": {
    "id": "Oe86m-SOok35"
   },
   "outputs": [
    {
     "name": "stdout",
     "output_type": "stream",
     "text": [
      "Writing mpiGather.c\n"
     ]
    }
   ],
   "source": [
    "%%writefile mpiGather.c\n",
    "#include <stdio.h>\n",
    "#include <stdlib.h>\n",
    "#include <mpi.h>\n",
    "\n",
    "int main( int argc, char **argv){\n",
    "\n",
    "int isend;\n",
    "int *irecv = (int *) calloc (4, sizeof(int));\n",
    "int rank, size;\n",
    "\n",
    "MPI_Init( &argc, &argv );\n",
    "MPI_Comm_rank( MPI_COMM_WORLD, &rank );\n",
    "MPI_Comm_size( MPI_COMM_WORLD, &size );\n",
    "\n",
    "isend = rank + 1;\n",
    "\n",
    "MPI_Gather(&isend, 1, MPI_INT, irecv, 1, MPI_INT, 0, MPI_COMM_WORLD);\n",
    "\n",
    "if(rank == 0)\n",
    "  printf(\"rank = %d\\tisend = %d\\tirecv = %d %d %d %d\\n\", rank, isend, irecv[0], irecv[1], irecv[2], irecv[3]);\n",
    "    else\n",
    "       printf(\"rank = %d\\tisend = %d\\tirecv = %d %d %d %d\\n\", rank, isend, irecv[0], irecv[1], irecv[2], irecv[3]);\n",
    "\n",
    "free(irecv);\n",
    "\n",
    "MPI_Finalize();\n",
    "\n",
    "return 0;\n",
    "\n",
    "}/*main*/"
   ]
  },
  {
   "cell_type": "code",
   "execution_count": 28,
   "metadata": {
    "id": "HMn4HwLZok35"
   },
   "outputs": [],
   "source": [
    "!mpicc mpiGather.c -o mpiGather"
   ]
  },
  {
   "cell_type": "code",
   "execution_count": 29,
   "metadata": {
    "id": "cFg4_yG3ok35"
   },
   "outputs": [
    {
     "name": "stdout",
     "output_type": "stream",
     "text": [
      "--------------------------------------------------------------------------\n",
      "WARNING: There was an error initializing an OpenFabrics device.\n",
      "\n",
      "  Local host:   c000\n",
      "  Local device: mlx5_0\n",
      "--------------------------------------------------------------------------\n",
      "rank = 0\tisend = 1\tirecv = 1 2 0 0\n",
      "rank = 1\tisend = 2\tirecv = 0 0 0 0\n",
      "[c000:24017] 1 more process has sent help message help-mpi-btl-openib.txt / error in device init\n",
      "[c000:24017] Set MCA parameter \"orte_base_help_aggregate\" to 0 to see all help / error messages\n"
     ]
    }
   ],
   "source": [
    "!mpirun -np 2 ./mpiGather"
   ]
  },
  {
   "cell_type": "markdown",
   "metadata": {
    "id": "WssBIJjCok36"
   },
   "source": [
    "### MPI #7 - MPI_Scatter"
   ]
  },
  {
   "cell_type": "code",
   "execution_count": null,
   "metadata": {
    "id": "8bEL5Fe_ok36"
   },
   "outputs": [],
   "source": [
    "\n",
    "                +-----------------------+\n",
    "                |       Process 0       |\n",
    "                +-----+-----+-----+-----+\n",
    "                |  0  | 100 | 200 | 300 |\n",
    "                +-----+-----+-----+-----+\n",
    "                 /      |       |      \\\n",
    "                /       |       |       \\\n",
    "               /        |       |        \\\n",
    "              /         |       |         \\\n",
    "             /          |       |          \\\n",
    "            /           |       |           \\\n",
    " +-----------+ +-----------+ +-----------+ +-----------+\n",
    " | Process 0 | | Process 1 | | Process 2 | | Process 3 |\n",
    " +-+-------+-+ +-+-------+-+ +-+-------+-+ +-+-------+-+\n",
    "   | Value |     | Value |     | Value |     | Value |\n",
    "   |   0   |     |  100  |     |  200  |     |  300  |\n",
    "   +-------+     +-------+     +-------+     +-------+"
   ]
  },
  {
   "cell_type": "code",
   "execution_count": 30,
   "metadata": {
    "id": "75qL1Rsjok36"
   },
   "outputs": [
    {
     "name": "stdout",
     "output_type": "stream",
     "text": [
      "Writing mpiScatter.c\n"
     ]
    }
   ],
   "source": [
    "%%writefile mpiScatter.c\n",
    "#include <stdio.h>\n",
    "#include <stdlib.h>\n",
    "#include <mpi.h>\n",
    "\n",
    "int main(int argc, char* argv[])\n",
    "{\n",
    "    MPI_Init(&argc, &argv);\n",
    "\n",
    "    // Get number of processes and check that 4 processes are used\n",
    "    int size;\n",
    "    MPI_Comm_size(MPI_COMM_WORLD, &size);\n",
    "    if(size != 4)\n",
    "    {\n",
    "        printf(\"This application is meant to be run with 4 processes.\\n\");\n",
    "        MPI_Abort(MPI_COMM_WORLD, EXIT_FAILURE);\n",
    "    }\n",
    "\n",
    "    // Determine root's rank\n",
    "    int root_rank = 0;\n",
    "\n",
    "    // Get my rank\n",
    "    int my_rank;\n",
    "    MPI_Comm_rank(MPI_COMM_WORLD, &my_rank);\n",
    "\n",
    "    // Define my value\n",
    "    int my_value;\n",
    "\n",
    "    if(my_rank == root_rank)\n",
    "    {\n",
    "        int buffer[4] = {0, 100, 200, 300};\n",
    "        printf(\"Values to scatter from process %d: %d, %d, %d, %d.\\n\", my_rank, buffer[0], buffer[1], buffer[2], buffer[3]);\n",
    "        MPI_Scatter(buffer, 1, MPI_INT, &my_value, 1, MPI_INT, root_rank, MPI_COMM_WORLD);\n",
    "    }\n",
    "    else\n",
    "    {\n",
    "        MPI_Scatter(NULL, 1, MPI_INT, &my_value, 1, MPI_INT, root_rank, MPI_COMM_WORLD);\n",
    "    }\n",
    "\n",
    "    printf(\"Process %d received value = %d.\\n\", my_rank, my_value);\n",
    "\n",
    "    MPI_Finalize();\n",
    "\n",
    "    return EXIT_SUCCESS;\n",
    "}"
   ]
  },
  {
   "cell_type": "code",
   "execution_count": 31,
   "metadata": {
    "id": "uwQrATZSok37"
   },
   "outputs": [],
   "source": [
    "!mpicc mpiScatter.c -o mpiScatter"
   ]
  },
  {
   "cell_type": "code",
   "execution_count": 32,
   "metadata": {
    "id": "17IuKG55ok37"
   },
   "outputs": [
    {
     "name": "stdout",
     "output_type": "stream",
     "text": [
      "--------------------------------------------------------------------------\n",
      "WARNING: There was an error initializing an OpenFabrics device.\n",
      "\n",
      "  Local host:   c000\n",
      "  Local device: mlx5_0\n",
      "--------------------------------------------------------------------------\n",
      "Values to scatter from process 0: 0, 100, 200, 300.\n",
      "Process 0 received value = 0.\n",
      "Process 2 received value = 200.\n",
      "Process 3 received value = 300.\n",
      "Process 1 received value = 100.\n",
      "[c000:24595] 3 more processes have sent help message help-mpi-btl-openib.txt / error in device init\n",
      "[c000:24595] Set MCA parameter \"orte_base_help_aggregate\" to 0 to see all help / error messages\n"
     ]
    }
   ],
   "source": [
    "!mpirun -np 4 ./mpiScatter"
   ]
  }
 ],
 "metadata": {
  "accelerator": "GPU",
  "colab": {
   "collapsed_sections": [
    "m022RDapqhTl"
   ],
   "gpuType": "T4",
   "provenance": [
    {
     "file_id": "1OhujvtZ8HLCXG4JU56I72vBJlfqYb9Kk",
     "timestamp": 1694022921959
    },
    {
     "file_id": "1e_lXiysoxz98IAygtljP-0xTOO6FaYV4",
     "timestamp": 1692812241795
    },
    {
     "file_id": "https://github.com/muriloboratto/programacao-jogos-digitais/blob/master/JD0007/notebooks/01-Entradas-Saidas.ipynb",
     "timestamp": 1678191303998
    }
   ]
  },
  "kernelspec": {
   "display_name": "Python 3 (ipykernel)",
   "language": "python",
   "name": "python3"
  },
  "language_info": {
   "codemirror_mode": {
    "name": "ipython",
    "version": 3
   },
   "file_extension": ".py",
   "mimetype": "text/x-python",
   "name": "python",
   "nbconvert_exporter": "python",
   "pygments_lexer": "ipython3",
   "version": "3.10.12"
  }
 },
 "nbformat": 4,
 "nbformat_minor": 4
}
